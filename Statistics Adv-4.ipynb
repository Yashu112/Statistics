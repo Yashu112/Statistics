{
 "cells": [
  {
   "cell_type": "markdown",
   "id": "85721dc7-2ebf-430e-8c54-eb895515ef4b",
   "metadata": {},
   "source": [
    "# Statistics Adv-4"
   ]
  },
  {
   "cell_type": "markdown",
   "id": "8d42d7a8-8d5e-408b-9477-29ee58d6bb60",
   "metadata": {},
   "source": []
  },
  {
   "cell_type": "markdown",
   "id": "f5249cdd-ad79-49dd-8c53-782b39db34ea",
   "metadata": {},
   "source": [
    "Q1: What is the difference between a t-test and a z-test? Provide an example scenario where you would\n",
    "use each type of test.\n",
    "\n",
    "Ans. t-test and z-test are two types of tests used in Hypothesis testing derive conclusions whether the null hypothesis is true or not. \n",
    "\n",
    "- **z-test** is used when the population standard deviation is given. Also the sample size should be large. In general, $n \\ge 30 $ is the limit for z-test\n",
    "- **t-test** is used when the population standard deviation is not given but the sample standard deviation is given. It can also be used when sample size is very less."
   ]
  },
  {
   "cell_type": "markdown",
   "id": "d5875794-d67e-4cd9-9e4b-28fb76b047be",
   "metadata": {},
   "source": []
  },
  {
   "cell_type": "markdown",
   "id": "483b8d07-e7ae-4ae2-a51a-f121df93f05a",
   "metadata": {},
   "source": [
    "Q2: Differentiate between one-tailed and two-tailed tests.\n",
    "\n",
    "Ans. One-tailed and two-tailed tests are two types of tests used in Hypothesis testing. \n",
    "\n",
    "- **One tailed tests**: Here we test the hypothesis about any parameter only in one direction. Critical region is defined on one side of region. For example, if the null hypothesis is that average IQ is 100 and we have to test that if some new drug improves the IQ or not, then we we are doing a one tailed test:\n",
    "    - $H_0 : \\mu=100$ : The average IQ is 100\n",
    "    - $H_1 : \\mu \\gt 100$ : The average IQ is more than 100\n",
    "\n",
    "\n",
    "- **Two tailed tests**: Here we test the hypothesis about any parameter in both directions, we see the increase as well as decrease. The critical region is defined on both sides of region. Here we see if there is any significant change in value. If we continue with above example, then a two tailed test in that case will be when we are just testing if there is any effect of drug on IQ, it may be positive or negative, IQ may improve or decrease.\n",
    "    - $H_0 : \\mu=100$ : The average IQ is 100\n",
    "    - $H_1 : \\mu \\ne 100$ : The average IQ is not equal to 100"
   ]
  },
  {
   "cell_type": "markdown",
   "id": "73646ee0-2c31-44e5-9ee4-d4604c1bf594",
   "metadata": {},
   "source": []
  },
  {
   "cell_type": "markdown",
   "id": "2c38a3ce-d316-4c00-8736-85e69397bb31",
   "metadata": {},
   "source": [
    "Q3: Explain the concept of Type 1 and Type 2 errors in hypothesis testing. Provide an example scenario for\n",
    "each type of error.\n",
    "\n",
    "Ans. In Hypothesis testing an error occurs when we make a wrong decision based on data. Type 1 and Type 2 errors are two types of errors that can occur in hypothesis testing:\n",
    "\n",
    "- **Type 1 error**: The type 1 error occurs when we reject the Null Hypothesis even when it is true in actual case. It is also known as false positive.\n",
    "\n",
    "    Example Scenario for Type 1 Error:\n",
    "    Imagine a clinical trial testing a new drug for a disease. The null hypothesis ($H_0$) states that the drug has no effect. However, if researchers incorrectly reject and conclude that the drug is effective, it could lead to the drug being prescribed widely when it doesn't actually work.\n",
    "\n",
    "- **Type 2 error**: The type 2 error occurs when we accept the Null Hypothesis even when it is false in actual case. It is also known as false negative.\n",
    "\n",
    "    Example Scenario for Type 2 Error:\n",
    "    Continuing from the previous example, let's assume the new drug is indeed effective. However, due to limited sample size or other factors, the clinical trial fails to show a statistically significant difference between the treated and control groups. If researchers fail to reject ($H_0$) and conclude that the drug is not effective, patients might miss out on a potentially beneficial treatment.\n"
   ]
  },
  {
   "cell_type": "markdown",
   "id": "aa207a84-148c-4dbd-9b93-0ea936ea34b1",
   "metadata": {},
   "source": []
  },
  {
   "cell_type": "markdown",
   "id": "acac4326-8e5b-4d2f-b66d-9820d66e26c6",
   "metadata": {},
   "source": [
    "Q4: Explain Bayes's theorem with an example.\n",
    "\n",
    "Ans. Bayes's theorem is used to give probability of an event when a given event has already occured:\n",
    "\n",
    "For two events, Bayes theorem is given by:\n",
    "$$ P\\left(A|B\\right) = \\frac{P\\left(A\\right).P\\left(B|A\\right)}{P\\left(B\\right)}$$\n",
    "\n",
    "where:\n",
    "- $ P\\left(A|B\\right)$: Probability of occurenc of A given B is true\n",
    "- $ P\\left(B|A\\right)$: Probability of occurenc of B given A is true\n",
    "- $ P(A) $: Probability of occurenc of A \n",
    "- $ P(B) $: Probability of occurenc of B\n",
    "\n",
    "Example: Suppose a box has 3 red balls and 2 blue balls. Then:\n",
    "- The probability of picking a red ball $P(R) = \\frac{3}{5}$\n",
    "- The probability of picking a blue ball $P(B) = \\frac{2}{5}$\n",
    "- The probability of picking a red ball if a blue ball is picked $P(R|B) = \\frac{3}{4}$\n",
    "\n",
    "Now using Bayes theorem, the probability of picking a blue ball if a red ball is picked:\n",
    "\n",
    "$$ P\\left(B|R\\right) = \\frac{P\\left(B\\right).P\\left(R|B\\right)}{P\\left(R\\right)}$$\n",
    "\n",
    "$$ P(B|R) = \\frac{2/5 * 3/4}{3/5} $$\n",
    "\n",
    "$$ P(B|R) = \\frac{6/20}{3/5} $$\n",
    "\n",
    "$$ P(B|R) = \\frac{1}{2} $$\n",
    "\n",
    "$$ P(B|R) = 0.5 $$"
   ]
  },
  {
   "cell_type": "markdown",
   "id": "fb3b1195-c661-445c-9ca7-c76b3b2fc218",
   "metadata": {},
   "source": []
  },
  {
   "cell_type": "markdown",
   "id": "3c000c3e-9b09-4a9f-9003-c548f0442b4f",
   "metadata": {},
   "source": [
    "Q5: What is a confidence interval? How to calculate the confidence interval, explain with an example.\n",
    "\n",
    "Ans. A confidence interval is a range of values which is derived in interval estimate. We say that the population parameter is likely to fall into the given range of values with a certain level of confidence. For example a 95% confidence interval for populaiton mean means that there are 95% chance that the population mean lies in that given range of values.\n",
    "\n",
    "We can use the given formaula to find the confidence interval of population mean:\n",
    "$$CI = \\bar{x} \\pm Z_{\\alpha/2}. \\left(\\frac{\\sigma}{\\sqrt{n}}\\right)$$\n",
    "\n",
    "For example:  We have $n$=50, $\\bar{x} = 4$, $\\sigma=1.5$, and $\\alpha=1-0.99=0.01$\n",
    "\n",
    "Solution using pyhton is as follows:"
   ]
  },
  {
   "cell_type": "code",
   "execution_count": 1,
   "id": "62530202-f6f8-4bf3-b75e-806c9fbb7c7c",
   "metadata": {},
   "outputs": [
    {
     "name": "stdout",
     "output_type": "stream",
     "text": [
      "The 99% confidence interval of population mean is (3.4535840896844654, 4.546415910315535)\n"
     ]
    }
   ],
   "source": [
    "from math import sqrt\n",
    "import scipy.stats as stat\n",
    "\n",
    "std = 1.5\n",
    "sample_mean = 4\n",
    "n = 50\n",
    "confidence = 99\n",
    "alpha = 1 - confidence/100\n",
    "\n",
    "z = abs(stat.norm.ppf(alpha/2))\n",
    "margin = z*(std/sqrt(n))\n",
    "CI = (sample_mean-margin, sample_mean+margin)\n",
    "print(f\"The {confidence}% confidence interval of population mean is {CI}\")"
   ]
  },
  {
   "cell_type": "markdown",
   "id": "eab03486-6acf-45cf-866b-f244be995f7d",
   "metadata": {},
   "source": []
  },
  {
   "cell_type": "markdown",
   "id": "74e6f385-1764-4240-b060-840291da4df3",
   "metadata": {},
   "source": [
    "Q6. Use Bayes' Theorem to calculate the probability of an event occurring given prior knowledge of the\n",
    "event's probability and new evidence. Provide a sample problem and solution.\n",
    "\n",
    "Ans. For two events, Bayes theorem is given by:\n",
    "$$ P\\left(A|B\\right) = \\frac{P\\left(A\\right).P\\left(B|A\\right)}{P\\left(B\\right)}$$\n",
    "\n",
    "Suppose there's a drug test for a certain performance-enhancing drug used by athletes. Let's define the following:\n",
    "\n",
    "- Event A: The athlete is using the performance-enhancing drug.\n",
    "- Event B: The athlete tests positive for the drug.\n",
    "\n",
    "We know the following probabilities:\n",
    "\n",
    "The probability that an athlete is using the drug (prior probability): $P(A) = 0.05 (5%)$\n",
    "The probability that an athlete tests positive given that they are using the drug: $P(B|A) = 0.98 (98%)$\n",
    "The probability that an athlete tests positive given that they are not using the drug: $P(B|\\bar{A}) = 0.04 (4%)$\n",
    "Now, we want to find the probability that an athlete is actually using the drug given that they test positive, i.e., $P(A|B)$\n",
    "\n",
    "$$P(B)=P(B∣A)⋅P(A)+P(B∣\\bar{A})⋅P(\\bar{A})$$\n",
    "$$P(B)= 0.98⋅0.05 + 0.04⋅0.95$$\n",
    "$$P(B)= 0.049 + 0.038 = 0.087$$\n",
    "\n",
    "Now, using Bayes' Theorem:\n",
    "$$ P\\left(A|B\\right) = \\frac{P\\left(A\\right).P\\left(B|A\\right)}{P\\left(B\\right)}$$\n",
    "$$ P\\left(A|B\\right) = \\frac{0.98⋅0.05}{0.087}$$\n",
    "$$P(A∣B)≈0.5632$$\n",
    "\n",
    "So, even though the athlete tests positive for the drug, the probability that they are actually using the drug is about 56.32%. This demonstrates how Bayes' Theorem allows us to update our beliefs about the probability of an event based on new evidence."
   ]
  },
  {
   "cell_type": "markdown",
   "id": "0b4eae71-9c3c-4ede-9810-69dcdc312482",
   "metadata": {},
   "source": []
  },
  {
   "cell_type": "markdown",
   "id": "42f7c32e-bb4b-48ed-aef2-a81a88ec60ca",
   "metadata": {},
   "source": [
    "Q7. Calculate the 95% confidence interval for a sample of data with a mean of 50 and a standard deviation\n",
    "of 5. Interpret the results.\n",
    "\n",
    "Ans. The Sample size is not given in question, let us assumne a sample size of 100, as population standard deviation is not given only sample standard deviationis given, so we use t statistics.\n",
    "\n",
    "$n=100$, $\\bar{x}=50$, $S=5$ confidence interval, $CI=95$, so we have $\\alpha=1-0.95=0.05$\n",
    "\n",
    "We can use the given formaula to find the confidence interval of population mean:\n",
    "$$CI = \\bar{x} \\pm t_{\\alpha/2}. \\left(\\frac{S}{\\sqrt{n}}\\right)$$"
   ]
  },
  {
   "cell_type": "code",
   "execution_count": 38,
   "id": "fb0983de-df00-42b7-957b-894df0805a7c",
   "metadata": {},
   "outputs": [
    {
     "name": "stdout",
     "output_type": "stream",
     "text": [
      "The 95% confidence interval of population mean is (49.00789152424566, 50.99210847575434)\n"
     ]
    }
   ],
   "source": [
    "from math import sqrt\n",
    "import scipy.stats as stats\n",
    "\n",
    "sample_mean = 50\n",
    "std = 5\n",
    "n = 100\n",
    "confidence = 95\n",
    "alpha = 1 - confidence/100\n",
    "\n",
    "t = stats.t.isf(alpha/2, n-1)\n",
    "margin = (t*std)/sqrt(n)\n",
    "\n",
    "CI = (sample_mean-margin, sample_mean+margin)\n",
    "print(f\"The {confidence}% confidence interval of population mean is {CI}\")"
   ]
  },
  {
   "cell_type": "markdown",
   "id": "6d150055-a9d2-40ec-802d-afd43752462e",
   "metadata": {},
   "source": [
    "This means that there are 95% chances that the population mean lies between 49.008 and 50.992"
   ]
  },
  {
   "cell_type": "markdown",
   "id": "f034caa1-f58e-4fd4-bea1-f1b22f45330c",
   "metadata": {},
   "source": []
  },
  {
   "cell_type": "markdown",
   "id": "0c9e0fb1-96ef-4d7e-85da-bd401808c857",
   "metadata": {},
   "source": [
    "Q8. What is the margin of error in a confidence interval? How does sample size affect the margin of error?\n",
    "Provide an example of a scenario where a larger sample size would result in a smaller margin of error.\n",
    "\n",
    "Ans. The margin of error (MOE) is a measure of the uncertainty associated with estimating a population parameter using a sample. In the context of a confidence interval, the margin of error indicates the range within which the true population parameter is likely to fall, given a certain level of confidence.\n",
    "\n",
    "The margin of error is often expressed as a positive value, and it represents half of the width of the confidence interval. The MOE is the value that we add and subtract from the point estimate to get the upper and lower bounds of the interval.\n",
    "\n",
    "The formula to calculate the margin of error for a population mean, when the population standard deviation is known, is:\n",
    "$$ MOE = Z_{\\alpha/2}. \\left(\\frac{\\sigma}{\\sqrt{n}}\\right)$$\n",
    "\n",
    "In case populaltion proportion is given, then we use\n",
    "$$ MOE = Z_{\\alpha/2}. \\sqrt{\\frac{p.(1-p)}{n}}$$\n",
    "\n",
    "**Effect of sample size**- The margin of error is inversely proportional to the square root of sample size. So if we increase the sample size, margin of error reduces. If we decrease the sample size, margin of error increases.\n",
    "\n",
    "For example, if we have $\\sigma=10$, then let us calculate the margin of error for two sample size, $n_1 = 50$ and $n_2 = 5000$ with a $95\\%$ confidence level using python:"
   ]
  },
  {
   "cell_type": "code",
   "execution_count": 11,
   "id": "2671790a-673b-4ac8-8c2f-01e0513b6740",
   "metadata": {},
   "outputs": [
    {
     "name": "stdout",
     "output_type": "stream",
     "text": [
      "The margin of error for sample size 50 is 2.326174307353348\n",
      "The margin of error for sample size 5000 is 0.23261743073533483\n"
     ]
    }
   ],
   "source": [
    "from math import sqrt\n",
    "import scipy.stats as stat\n",
    "\n",
    "std = 10\n",
    "n1 = 50\n",
    "n2 = 5000\n",
    "confidence = 90\n",
    "alpha = 1 - confidence/100\n",
    "\n",
    "z = abs(stat.norm.ppf(alpha/2))\n",
    "margin_1 = z*(std/sqrt(n1))\n",
    "margin_2 = z*(std/sqrt(n2))\n",
    "\n",
    "print(f\"The margin of error for sample size {n1} is {margin_1}\")\n",
    "print(f\"The margin of error for sample size {n2} is {margin_2}\")\n"
   ]
  },
  {
   "cell_type": "markdown",
   "id": "5625d703-eaa7-4524-950c-13b7acedf69e",
   "metadata": {},
   "source": [
    "Thus we see that a larger sample size results in a smaller margin of error."
   ]
  },
  {
   "cell_type": "markdown",
   "id": "bee6c44c-ff40-4b16-87d4-2ee499b3759c",
   "metadata": {},
   "source": []
  },
  {
   "cell_type": "markdown",
   "id": "0bb7403e-d2b2-4f3b-8b37-c6a74f4886e4",
   "metadata": {},
   "source": [
    "Q9. Calculate the z-score for a data point with a value of 75, a population mean of 70, and a population\n",
    "standard deviation of 5. Interpret the results.\n",
    "\n",
    "Ans. Given: $\\mu=70$, $x=75$, $\\sigma=5$\n",
    "\n",
    "So, the Z-score for $x$ is :\n",
    "$$ Z = \\frac{x - \\mu}{\\sigma} $$\n",
    "\n",
    "$$ Z = \\frac{75 - 70}{5} $$\n",
    "\n",
    "$$ Z = \\frac{5}{5} $$\n",
    "\n",
    "$$ \\fbox{Z = 1} $$\n",
    "\n",
    "Interpretation of result: Z=+1 means that the point x=75 is 1 standard deviation away from the mean on right side."
   ]
  },
  {
   "cell_type": "markdown",
   "id": "ce1ecfd0-07b7-4e37-a748-07451b2f979e",
   "metadata": {},
   "source": []
  },
  {
   "cell_type": "markdown",
   "id": "04034111-b851-4068-977c-0ef454f47a23",
   "metadata": {},
   "source": [
    "Q10. In a study of the effectiveness of a new weight loss drug, a sample of 50 participants lost an average\n",
    "of 6 pounds with a standard deviation of 2.5 pounds. Conduct a hypothesis test to determine if the drug is\n",
    "significantly effective at a 95% confidence level using a t-test.\n",
    "\n",
    "Ans. We have $\\bar{x}=6$, $n=50$, $S=2.5$, $\\alpha=0.05$. The null and alternative hypothesis are:\n",
    "- $H_0$: $\\mu=0$ : this means mean weight loss is 0 and the drug is not effective\n",
    "- $H_1$: $\\mu \\ne 0$ : this means the drug is effective\n",
    "\n",
    "As population standard deviation is not given, we will use t-statistics. Using Pyhton, the solution can be obtained as shown:"
   ]
  },
  {
   "cell_type": "code",
   "execution_count": 2,
   "id": "81f8247a-5f5c-4033-9a67-1d6d7df698ec",
   "metadata": {},
   "outputs": [
    {
     "name": "stdout",
     "output_type": "stream",
     "text": [
      "RESULT:\n",
      "We reject the Null Hypothesis. The new weight loss drug is significantly effective\n"
     ]
    }
   ],
   "source": [
    "import scipy.stats as stat\n",
    "import numpy as np\n",
    "\n",
    "pop_mean = 0\n",
    "sample_mean = 6\n",
    "std = 2.5\n",
    "significance_level = 0.05\n",
    "sample_size = 50\n",
    "dof =sample_size-1\n",
    "\n",
    "t = (sample_mean-pop_mean)/(std/np.sqrt(sample_size))\n",
    "p = stat.t.ppf(1-significance_level/2, dof)\n",
    "\n",
    "print(\"RESULT:\")\n",
    "\n",
    "if t<-p or t>p:\n",
    "    print(\"We reject the Null Hypothesis. The new weight loss drug is significantly effective\")\n",
    "else:\n",
    "    print(\"We accept the Null Hypothesis. The new weight loss drug is not significantly effective\")\n"
   ]
  },
  {
   "cell_type": "markdown",
   "id": "1a63a5bc-c8e5-4a08-9e98-58d8d41650b5",
   "metadata": {},
   "source": []
  },
  {
   "cell_type": "markdown",
   "id": "0cd59e85-6362-4043-8bda-e595609cbccb",
   "metadata": {},
   "source": [
    "Q11. In a survey of 500 people, 65% reported being satisfied with their current job. Calculate the 95%\n",
    "confidence interval for the true proportion of people who are satisfied with their job.\n",
    "\n",
    "Ans. For a proportion, the formula for confidence interval is as follows:\n",
    "$$CI = p \\pm Z_{\\alpha/2}. \\sqrt{\\frac{p.(1-p)}{n}}$$\n",
    "\n",
    "where:\n",
    "- $p$ is the proportion\n",
    "- $Z_{\\alpha/2}$ is the z score\n",
    "- $n$ is the sample size\n",
    "\n",
    "Solution using pyhton is as shown:"
   ]
  },
  {
   "cell_type": "code",
   "execution_count": 8,
   "id": "ebb87486-2509-47e7-808a-5e2663063fe2",
   "metadata": {},
   "outputs": [
    {
     "name": "stdout",
     "output_type": "stream",
     "text": [
      "The 95% confidence interval  for the true proportion of people who are satisfied with their job is \n",
      "(3.958192539380921, 4.041807460619079)\n"
     ]
    }
   ],
   "source": [
    "from math import sqrt\n",
    "import scipy.stats as stat\n",
    "\n",
    "p = 65/100\n",
    "n = 500\n",
    "confidence = 95\n",
    "alpha = 1 - confidence/100\n",
    "\n",
    "z = abs(stat.norm.ppf(alpha/2))\n",
    "margin = z*(sqrt(p*(1-p)/n))\n",
    "CI = (sample_mean-margin, sample_mean+margin)\n",
    "\n",
    "print(f\"\"\"The {confidence}% confidence interval  for the true proportion of people who are satisfied with their job is \n",
    "{CI}\"\"\")"
   ]
  },
  {
   "cell_type": "markdown",
   "id": "82bc3891-d992-417a-913c-41a211491c92",
   "metadata": {},
   "source": []
  },
  {
   "cell_type": "markdown",
   "id": "cc1bcf95-7f30-4e3d-961a-444b3728c7a1",
   "metadata": {},
   "source": [
    "Q12. A researcher is testing the effectiveness of two different teaching methods on student performance.\n",
    "Sample A has a mean score of 85 with a standard deviation of 6, while sample B has a mean score of 82\n",
    "with a standard deviation of 5. Conduct a hypothesis test to determine if the two teaching methods have a\n",
    "significant difference in student performance using a t-test with a significance level of 0.01.\n",
    "\n",
    "Ans. The size of smaple is not given in question. Let us assume that both samples have same size $n=50$.The formula used in this scenario will be:\n",
    "\n",
    "$$ t = \\frac{\\bar{x}_1 - \\bar{x}_2}{s_p.\\sqrt{\\frac{2}{n}}} $$\n",
    "\n",
    "where $s_p$ is the pooled standard deviation\n",
    "$$ s_p = \\sqrt{\\frac{s_1^2 + s_2^2}{2}}$$\n",
    "\n",
    "- $s_1 = 6$ : standard deviation of first sample\n",
    "- $s_2 = 5$ : standard deviation of second sample\n",
    "- $\\bar{x}_1 = 85$ : mean of first sample \n",
    "- $\\bar{x}_2 = 82$ : mean of second sample \n",
    "- $n = 50$ : sample size\n",
    "\n",
    "The null and alternative hypothesis are:\n",
    "- $H_0$: $\\bar{x}_1 - \\bar{x}_2=0$ : the means are different, the two teaching methods don'ta significant difference in student performance \n",
    "- $H_1$: $\\bar{x}_1 - \\bar{x}_2 \\ne 0$ : the means are not different, the two teaching methods have a significant difference in student performance \n",
    "\n",
    "Solution using python is as shown:"
   ]
  },
  {
   "cell_type": "code",
   "execution_count": 30,
   "id": "2442da99-d21b-4766-9431-91afe9b8825e",
   "metadata": {},
   "outputs": [
    {
     "name": "stdout",
     "output_type": "stream",
     "text": [
      "t : 2.716072381275556\n",
      "critical value : 2.626931094814024\n",
      "We reject the Null Hypothesis. The two teaching methods have a significant difference in student performance \n"
     ]
    }
   ],
   "source": [
    "import scipy.stats as stat\n",
    "import numpy as np\n",
    "\n",
    "mean1 = 85\n",
    "mean2 = 82\n",
    "s1 = 6\n",
    "s2 = 5\n",
    "significance_value = 0.01\n",
    "size = 50\n",
    "dof = 2*(size-1)\n",
    "\n",
    "std_pooled = np.sqrt((s1**2 + s2**2)/2)\n",
    "t = (mean1-mean2)/(std_pooled*np.sqrt(2/size))\n",
    "critical = stat.t.ppf(1-significance_value/2, dof)\n",
    "    \n",
    "print(f\"t : {t}\")\n",
    "print(f\"critical value : {critical}\")\n",
    "if t>critical or t<-critical:\n",
    "    print(\"We reject the Null Hypothesis. The two teaching methods have a significant difference in student performance \")\n",
    "else:\n",
    "    print(\"We fail to reject the Null Hypothesis. The two teaching methods don't have a significant difference in student performance \")\n",
    "    "
   ]
  },
  {
   "cell_type": "markdown",
   "id": "1473c6a7-4e06-4183-9578-040d5ce85321",
   "metadata": {},
   "source": []
  },
  {
   "cell_type": "markdown",
   "id": "7b0f2bde-f08b-49ba-818a-c03ddd017d56",
   "metadata": {},
   "source": [
    "Q13. A population has a mean of 60 and a standard deviation of 8. A sample of 50 observations has a mean\n",
    "of 65. Calculate the 90% confidence interval for the true population mean.\n",
    "\n",
    "Ans. $\\mu=60$, $\\sigma=8$, $n=50$, $\\bar{x}=65$, confidence interval, $CI=90$, so we have $\\alpha=1-0.90=0.1$\n",
    "\n",
    "We can use the given formaula to find the confidence interval of population mean:\n",
    "$$CI = \\bar{x} \\pm Z_{\\alpha/2}. \\left(\\frac{\\sigma}{\\sqrt{n}}\\right)$$\n",
    "\n",
    "Solution using python is as follows:"
   ]
  },
  {
   "cell_type": "code",
   "execution_count": 4,
   "id": "e6ef2563-4b9c-480d-a429-69442f6ae943",
   "metadata": {},
   "outputs": [
    {
     "name": "stdout",
     "output_type": "stream",
     "text": [
      "The 90% confidence interval of population mean is (63.13906055411732, 66.86093944588268)\n"
     ]
    }
   ],
   "source": [
    "from math import sqrt\n",
    "import scipy.stats as stat\n",
    "\n",
    "pop_mean = 60\n",
    "std = 8\n",
    "sample_mean = 65\n",
    "n = 50\n",
    "confidence = 90\n",
    "alpha = 1 - confidence/100\n",
    "\n",
    "z = abs(stat.norm.ppf(alpha/2))\n",
    "margin = z*(std/sqrt(n))\n",
    "CI = (sample_mean-margin, sample_mean+margin)\n",
    "print(f\"The {confidence}% confidence interval of population mean is {CI}\")"
   ]
  },
  {
   "cell_type": "markdown",
   "id": "2a78f451-0b33-4304-8fe8-cd2b4ef061c0",
   "metadata": {},
   "source": []
  },
  {
   "cell_type": "markdown",
   "id": "e9d611b7-567c-423d-b41a-39a421449541",
   "metadata": {},
   "source": [
    "Q14. In a study of the effects of caffeine on reaction time, a sample of 30 participants had an average\n",
    "reaction time of 0.25 seconds with a standard deviation of 0.05 seconds. Conduct a hypothesis test to\n",
    "determine if the caffeine has a significant effect on reaction time at a 90% confidence level using a t-test.\n",
    "\n",
    "Ans. We have $\\bar{x}=0.25$, $n=30$, $S=0.05$, confidence level = 90%, so $\\alpha=1-0.90=0.10$. The null and alternative hypothesis are:\n",
    "- $H_0$: $\\mu=0$ : this means there is no change in reaction time and the caffeine has no effect\n",
    "- $H_1$: $\\mu \\ne 0$ : this means there is change in reaction time and the caffeine has effect\n",
    "\n",
    "As population standard deviation is not given, we will use t-statistics. Using Pyhton, the solution can be obtained as shown:"
   ]
  },
  {
   "cell_type": "code",
   "execution_count": 5,
   "id": "648f12f6-65df-4650-b211-ade64da45dd6",
   "metadata": {},
   "outputs": [
    {
     "name": "stdout",
     "output_type": "stream",
     "text": [
      "RESULT:\n",
      "We reject the Null Hypothesis. There is change in reaction time and the caffeine has some effect\n"
     ]
    }
   ],
   "source": [
    "import scipy.stats as stat\n",
    "import numpy as np\n",
    "\n",
    "pop_mean = 0\n",
    "sample_mean = 0.25\n",
    "std = 0.05\n",
    "significance_level = 0.01\n",
    "sample_size = 30\n",
    "dof = sample_size-1\n",
    "\n",
    "t = (sample_mean-pop_mean)/(std/np.sqrt(sample_size))\n",
    "p = stat.t.ppf(1-significance_level/2, dof)\n",
    "\n",
    "print(\"RESULT:\")\n",
    "\n",
    "if t<-p or t>p:\n",
    "    print(\"We reject the Null Hypothesis. There is change in reaction time and the caffeine has some effect\")\n",
    "else:\n",
    "    print(\"We accept the Null Hypothesis. There is no change in reaction time and the caffeine has no effect\")\n"
   ]
  },
  {
   "cell_type": "markdown",
   "id": "f23a532a-0461-44aa-91ea-00f7616ce680",
   "metadata": {},
   "source": []
  }
 ],
 "metadata": {
  "kernelspec": {
   "display_name": "Python 3 (ipykernel)",
   "language": "python",
   "name": "python3"
  },
  "language_info": {
   "codemirror_mode": {
    "name": "ipython",
    "version": 3
   },
   "file_extension": ".py",
   "mimetype": "text/x-python",
   "name": "python",
   "nbconvert_exporter": "python",
   "pygments_lexer": "ipython3",
   "version": "3.10.8"
  }
 },
 "nbformat": 4,
 "nbformat_minor": 5
}
