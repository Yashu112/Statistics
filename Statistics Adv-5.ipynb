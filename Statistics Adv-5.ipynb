{
 "cells": [
  {
   "cell_type": "markdown",
   "id": "b798cfb5-f6ab-4916-82d7-5069a524d695",
   "metadata": {},
   "source": [
    "# Statistics Adv-5"
   ]
  },
  {
   "cell_type": "markdown",
   "id": "5f43a52e-6da7-4b1f-81f2-2ac3b4ed14dc",
   "metadata": {},
   "source": []
  },
  {
   "cell_type": "markdown",
   "id": "4aa115c7-b533-43b8-8201-5ab662025f50",
   "metadata": {},
   "source": [
    "Q1. Calculate the 95% confidence interval for a sample of data with a mean of 50 and a standard deviation\n",
    "of 5 using Python. Interpret the results.\n",
    "\n",
    "Ans. The Sample size is not given in question, let us assumne a sample size of 100, as population standard deviation is not given only sample standard deviationis given, so we use t statistics.\n",
    "\n",
    "$n=100$, $\\bar{x}=50$, $S=5$ confidence interval, $CI=95$, so we have $\\alpha=1-0.95=0.05$\n",
    "\n",
    "We can use the given formaula to find the confidence interval of population mean:\n",
    "$$CI = \\bar{x} \\pm t_{\\alpha/2}. \\left(\\frac{S}{\\sqrt{n}}\\right)$$"
   ]
  },
  {
   "cell_type": "code",
   "execution_count": 3,
   "id": "df6e77fa-77be-47dd-a51d-f63b0c9e1917",
   "metadata": {},
   "outputs": [
    {
     "name": "stdout",
     "output_type": "stream",
     "text": [
      "The 95% confidence interval of population mean is (49.00789152424566, 50.99210847575434)\n"
     ]
    }
   ],
   "source": [
    "from math import sqrt\n",
    "import scipy.stats as stats\n",
    "\n",
    "sample_mean = 50\n",
    "std = 5\n",
    "n = 100\n",
    "confidence = 95\n",
    "alpha = 1 - confidence/100\n",
    "\n",
    "t = stats.t.isf(alpha/2, n-1)\n",
    "margin = (t*std)/sqrt(n)\n",
    "\n",
    "CI = (sample_mean-margin, sample_mean+margin)\n",
    "print(f\"The {confidence}% confidence interval of population mean is {CI}\")"
   ]
  },
  {
   "cell_type": "markdown",
   "id": "dc87986e-ac2d-4108-9a81-9e1273f6fb92",
   "metadata": {},
   "source": [
    "This means that there are 95% chances that the population mean lies between 49.008 and 50.992"
   ]
  },
  {
   "cell_type": "markdown",
   "id": "92309252-893a-42b5-a441-acfd44314a22",
   "metadata": {},
   "source": []
  },
  {
   "cell_type": "markdown",
   "id": "b5ad8540-14de-4bbe-a99b-d8a789e8d710",
   "metadata": {},
   "source": [
    "Q2. Conduct a chi-square goodness of fit test to determine if the distribution of colors of M&Ms in a bag\n",
    "matches the expected distribution of 20% blue, 20% orange, 20% green, 10% yellow, 10% red, and 20%\n",
    "brown. Use Python to perform the test with a significance level of 0.05.\n",
    "\n",
    "Ans. For a pack of 100, we have the number of candies of different colours as:\n",
    "\n",
    "| Colour | Expected | Observed |\n",
    "|---     | ---      | ----     |\n",
    "|Blue    | 20       |24        |\n",
    "|Orange  | 20       |20        |\n",
    "|Green   | 20       |16        |\n",
    "|Yellow  | 10       |14        |\n",
    "|Red     | 10       |13        |\n",
    "|Brown   | 20       |13        |\n",
    "\n",
    "Chi square test can be performed using python as follows:"
   ]
  },
  {
   "cell_type": "code",
   "execution_count": 20,
   "id": "ce2f68cd-d6e4-4dd8-8091-b40d6496d8b5",
   "metadata": {},
   "outputs": [
    {
     "name": "stdout",
     "output_type": "stream",
     "text": [
      "RESULT:\n",
      "Chi-square statistic = 6.55\n",
      "Critical value = 11.07\n",
      "We fail to reject the Null Hypothesis. Distribution of colors of M&Ms in bag matches expected distribution\n"
     ]
    }
   ],
   "source": [
    "import scipy.stats as stat\n",
    "import numpy as np\n",
    "\n",
    "expected = [20, 20, 20, 10, 10, 20]\n",
    "observed = [24, 20, 16, 14, 13, 13]\n",
    "\n",
    "significance_level = 0.05\n",
    "dof = len(observed)-1\n",
    "\n",
    "chi_stat, p_value = stat.chisquare(observed, expected)\n",
    "\n",
    "critical_value = stat.chi2.ppf(1-significance_level,dof)\n",
    "\n",
    "print(\"RESULT:\")\n",
    "print(f'Chi-square statistic = {chi_stat:.4}')\n",
    "print(f'Critical value = {critical_value:.4}')\n",
    "if chi_stat > critical_value:\n",
    "    print(\"We reject the Null Hypothesis. Distribution of colors of M&Ms in a bag doesn't match expected distribution\")\n",
    "else:\n",
    "    print(\"We fail to reject the Null Hypothesis. Distribution of colors of M&Ms in bag matches expected distribution\")"
   ]
  },
  {
   "cell_type": "markdown",
   "id": "dee956ac-3a06-4a78-a4c3-6b61e99d9a0a",
   "metadata": {},
   "source": []
  },
  {
   "cell_type": "markdown",
   "id": "47c2de90-e86c-4309-be5f-48740937395d",
   "metadata": {},
   "source": [
    "Q3. Use Python to calculate the chi-square statistic and p-value for a contingency table with the following\n",
    "\n",
    "|          |Group A| Group B|\n",
    "|---       |---    | ----   |\n",
    "|Outcome 1 |20     | 15     |\n",
    "|Outcome 2 |10     | 25     |\n",
    "|Outcome 3 |15     | 20     |\n",
    "\n",
    "Interpret the results of the test.\n",
    "\n",
    "Ans. Firstly we calculate the expected values table as follows:\n",
    "\n",
    "|          |Group A| Group B| Row total|\n",
    "|---       |---    | ----   | -- |\n",
    "|Outcome 1 |20     | 15     | 35|\n",
    "|Outcome 2 |10     | 25     | 35|\n",
    "|Outcome 3 |15     | 20     |35|\n",
    "|column total| 45 | 60| Grand total = 105|\n",
    "\n",
    "Thus expected values are\n",
    "\n",
    "|          |Group A| Group B|\n",
    "|---       |---    | ----   |\n",
    "|Outcome 1 |15     | 20     |\n",
    "|Outcome 2 |15     | 20     |\n",
    "|Outcome 3 |15     | 20     |\n",
    "\n",
    "- $H_0$: Null Hypothesis: There is no significant association between Group A and Group B.\n",
    "- $H_1$: Alternative Hypothesis: There is a significant association between Group A and Group B.\n",
    "\n",
    "Now, we conduct a chi-square test for independence using python:"
   ]
  },
  {
   "cell_type": "code",
   "execution_count": 7,
   "id": "61139b1b-6508-4a6f-b32a-b03897f08caa",
   "metadata": {},
   "outputs": [
    {
     "name": "stdout",
     "output_type": "stream",
     "text": [
      "RESULT:\n",
      "Chi-square statistic = 5.833\n",
      "p_value = 0.3228\n",
      "We fail to reject the Null Hypothesis. There is no significant association between Group A and Group B\n"
     ]
    }
   ],
   "source": [
    "import scipy.stats as stat\n",
    "import numpy as np\n",
    "\n",
    "expected = [15, 15, 15, 20, 20, 20]\n",
    "observed = [20, 10, 15, 15, 25, 20]\n",
    "\n",
    "chi_stat, p_value = stat.chisquare(observed,expected)\n",
    "\n",
    "print(\"RESULT:\")\n",
    "print(f'Chi-square statistic = {chi_stat:.4}')\n",
    "print(f'p_value = {p_value:.4}')\n",
    "\n",
    "if chi_stat > critical_value:\n",
    "    print(\"\"\"We reject the Null Hypothesis. There is a significant association between Group A and Group B\"\"\")\n",
    "else:\n",
    "    print(\"\"\"We fail to reject the Null Hypothesis. There is no significant association between Group A and Group B\"\"\")"
   ]
  },
  {
   "cell_type": "markdown",
   "id": "93a9a014-1ddd-4dc9-8f77-697bba3726f0",
   "metadata": {},
   "source": []
  },
  {
   "cell_type": "markdown",
   "id": "a5cba7d2-5118-40e9-80f0-e6bda40ba635",
   "metadata": {},
   "source": [
    "Q4. A study of the prevalence of smoking in a population of 500 individuals found that 60 individuals\n",
    "smoked. Use Python to calculate the 95% confidence interval for the true proportion of individuals in the\n",
    "population who smoke.\n",
    "\n",
    "Ans. For a proportion, the formula for confidence interval is as follows:\n",
    "$$CI = p \\pm Z_{\\alpha/2}. \\sqrt{\\frac{p.(1-p)}{n}}$$\n",
    "\n",
    "where:\n",
    "- $p$ is the proportion\n",
    "- $Z_{\\alpha/2}$ is the z score\n",
    "- $n$ is the sample size\n",
    "\n",
    "Solution using pyhton is as shown:"
   ]
  },
  {
   "cell_type": "code",
   "execution_count": 28,
   "id": "a0bb5379-8d1e-48b4-876c-52f691a0144a",
   "metadata": {},
   "outputs": [
    {
     "name": "stdout",
     "output_type": "stream",
     "text": [
      "The 95% confidence interval  for the true proportion of individuals in population who smoke is \n",
      "(0.09151638887130707, 0.1484836111286929). Thus the true proportion of individuals in population who smoke lies between 45.76 and 74.24\n"
     ]
    }
   ],
   "source": [
    "from math import sqrt\n",
    "import scipy.stats as stat\n",
    "\n",
    "p = 60/500\n",
    "n = 500\n",
    "confidence = 95\n",
    "alpha = 1 - confidence/100\n",
    "\n",
    "z = abs(stat.norm.ppf(alpha/2))\n",
    "margin = z*(sqrt(p*(1-p)/n))\n",
    "CI = (p-margin, p+margin)\n",
    "\n",
    "lower = CI[0]*500\n",
    "upper = CI[1]*500\n",
    "\n",
    "print(f\"\"\"The {confidence}% confidence interval  for the true proportion of individuals in population who smoke is \n",
    "{CI}. Thus the true proportion of individuals in population who smoke lies between {lower:.4} and {upper:.4}\"\"\")\n"
   ]
  },
  {
   "cell_type": "markdown",
   "id": "ef51e5dd-4fef-4025-bcda-1960503b0a4d",
   "metadata": {},
   "source": []
  },
  {
   "cell_type": "markdown",
   "id": "1a37583b-f598-4e60-a52b-629221d31ce2",
   "metadata": {},
   "source": [
    "Q5. Calculate the 90% confidence interval for a sample of data with a mean of 75 and a standard deviation\n",
    "of 12 using Python. Interpret the results.\n",
    "\n",
    "Ans. We have $\\bar{x} = 75$, $s=12$, and $\\alpha=1-0.90=0.10$. Size is not given. Let us assume, $n=100$\n",
    "\n",
    "We can use t-distribution formaula to find the confidence interval of population mean:\n",
    "$$CI = \\bar{x} \\pm t_{\\alpha/2}. \\left(\\frac{s}{\\sqrt{n}}\\right)$$\n",
    "\n",
    "where $t_{\\alpha/2}. \\left(\\frac{s}{\\sqrt{n}}\\right)$ is the margin of error.\n",
    "\n",
    "Solution using pyhton is as follows:"
   ]
  },
  {
   "cell_type": "code",
   "execution_count": 29,
   "id": "708a1b64-bb5a-4086-b184-b3ced5595d75",
   "metadata": {},
   "outputs": [
    {
     "name": "stdout",
     "output_type": "stream",
     "text": [
      "The 90% confidence interval of population mean is (73.00753061280433, 76.99246938719567)\n"
     ]
    }
   ],
   "source": [
    "from scipy import stats\n",
    "import math\n",
    "\n",
    "sample_mean = 75\n",
    "std = 12\n",
    "n = 100\n",
    "confidence = 90\n",
    "alpha = 1-(confidence/100)\n",
    "\n",
    "t = stats.t.isf(alpha/2, n-1)\n",
    "margin = (t*std)/math.sqrt(n)\n",
    "CI = (sample_mean-margin, sample_mean+margin)\n",
    "print(f\"The {confidence}% confidence interval of population mean is {CI}\")"
   ]
  },
  {
   "cell_type": "markdown",
   "id": "99797ccf-a795-4163-9982-d59997181784",
   "metadata": {},
   "source": []
  },
  {
   "cell_type": "markdown",
   "id": "d00d6383-7c5c-469c-b86f-d25b06c65a66",
   "metadata": {},
   "source": [
    "Q6. Use Python to plot the chi-square distribution with 10 degrees of freedom. Label the axes and shade the\n",
    "area corresponding to a chi-square statistic of 15.\n",
    "\n",
    "Ans. The plot is as shown:"
   ]
  },
  {
   "cell_type": "code",
   "execution_count": 7,
   "id": "a9fcacc7-917d-4d83-898d-a4c672c6634e",
   "metadata": {},
   "outputs": [
    {
     "data": {
      "image/png": "[encoded data removed]",
      "text/plain": [
       "<Figure size 640x480 with 1 Axes>"
      ]
     },
     "metadata": {},
     "output_type": "display_data"
    }
   ],
   "source": [
    "import matplotlib.pyplot as plt\n",
    "import numpy as np\n",
    "import scipy.stats as stat\n",
    "\n",
    "dof = 10\n",
    "\n",
    "x = np.linspace(0, 30, 1000)\n",
    "y = stat.chi2.pdf(x, dof)\n",
    "\n",
    "plt.plot(x,y)\n",
    "plt.title(\"Chi-square Distribution with 10 Degrees of Freedom\")\n",
    "plt.xlabel(\"x\")\n",
    "plt.ylabel(\"Probability Distribution\")\n",
    "\n",
    "x_shaded = np.linspace(0, 15, 100)\n",
    "y_shaded = stat.chi2.pdf(x_shaded, dof)\n",
    "plt.fill_between(x_shaded, y_shaded, color='grey')\n",
    "\n",
    "plt.grid()\n",
    "plt.show()"
   ]
  },
  {
   "cell_type": "markdown",
   "id": "c97827f5-15c8-4506-9370-7bcff9e0261e",
   "metadata": {},
   "source": []
  },
  {
   "cell_type": "markdown",
   "id": "ecbcd026-dda7-4a32-9493-54dc76782244",
   "metadata": {},
   "source": [
    "Q7. A random sample of 1000 people was asked if they preferred Coke or Pepsi. Of the sample, 520\n",
    "preferred Coke. Calculate a 99% confidence interval for the true proportion of people in the population who\n",
    "prefer Coke.\n",
    "\n",
    "Ans. For a proportion, the formula for confidence interval is as follows:\n",
    "$$CI = p \\pm Z_{\\alpha/2}. \\sqrt{\\frac{p.(1-p)}{n}}$$\n",
    "\n",
    "where:\n",
    "- $p$ is the proportion\n",
    "- $Z_{\\alpha/2}$ is the z score\n",
    "- $n$ is the sample size\n",
    "\n",
    "Solution using pyhton is as shown:"
   ]
  },
  {
   "cell_type": "code",
   "execution_count": 13,
   "id": "272cfdc6-fbcc-4ba1-8429-2c8cfabaf1cd",
   "metadata": {},
   "outputs": [
    {
     "name": "stdout",
     "output_type": "stream",
     "text": [
      "The 99% confidence interval  for true proportion of people who prefer coke is (0.4793051576779699, 0.5606948423220302)\n",
      "Thus the true proportion of people in population who prefer coke lies between 479.31 and 560.69\n"
     ]
    }
   ],
   "source": [
    "from math import sqrt\n",
    "import scipy.stats as stat\n",
    "\n",
    "p = 520/1000\n",
    "n = 1000\n",
    "confidence = 99\n",
    "alpha = 1 - confidence/100\n",
    "\n",
    "z = abs(stat.norm.ppf(alpha/2))\n",
    "margin = z*(sqrt(p*(1-p)/n))\n",
    "CI = (p-margin, p+margin)\n",
    "\n",
    "lower = CI[0]*1000\n",
    "upper = CI[1]*1000\n",
    "\n",
    "print(f\"\"\"The {confidence}% confidence interval  for true proportion of people who prefer coke is {CI}\n",
    "Thus the true proportion of people in population who prefer coke lies between {lower:.5} and {upper:.5}\"\"\")"
   ]
  },
  {
   "cell_type": "markdown",
   "id": "0bcf9731-d467-44e1-aed9-2083fe32baa8",
   "metadata": {},
   "source": []
  },
  {
   "cell_type": "markdown",
   "id": "1b1bcc42-bb07-4f99-bcc9-99ef9d064d28",
   "metadata": {},
   "source": [
    "Q8. A researcher hypothesizes that a coin is biased towards tails. They flip the coin 100 times and observe\n",
    "45 tails. Conduct a chi-square goodness of fit test to determine if the observed frequencies match the\n",
    "expected frequencies of a fair coin. Use a significance level of 0.05.\n",
    "\n",
    "Ans. The table is as follows:\n",
    "\n",
    "|       | Expected | Observed |\n",
    "| ---   | ----     | ----     |\n",
    "| Heads | 50       | 55       | \n",
    "| Tails | 50       | 45       |\n",
    "\n",
    "- $H_0$: Null Hypothesis. The coin is not biased\n",
    "- $H_1$: Alternative Hypothesis. The coin is biased.\n",
    "\n",
    "The Chi square test using python is as follows:"
   ]
  },
  {
   "cell_type": "code",
   "execution_count": 8,
   "id": "e62676cc-49ee-4da3-a15f-15dab47f38af",
   "metadata": {},
   "outputs": [
    {
     "name": "stdout",
     "output_type": "stream",
     "text": [
      "RESULT:\n",
      "Chi-square statistic = 1.0\n",
      "Critical value = 3.841\n",
      "We fail to reject the Null Hypothesis. The coin is not biased\n"
     ]
    }
   ],
   "source": [
    "import scipy.stats as stat\n",
    "import numpy as np\n",
    "\n",
    "expected = [50,50]\n",
    "observed = [55,45]\n",
    "\n",
    "significance_level = 0.05\n",
    "dof = len(observed)-1\n",
    "\n",
    "chi_stat, p_value = stat.chisquare(observed, expected)\n",
    "\n",
    "critical_value = stat.chi2.ppf(1-significance_level,dof)\n",
    "\n",
    "print(\"RESULT:\")\n",
    "print(f'Chi-square statistic = {chi_stat:.4}')\n",
    "print(f'Critical value = {critical_value:.4}')\n",
    "if chi_stat > critical_value:\n",
    "    print(\"We reject the Null Hypothesis. The coin is biased\")\n",
    "else:\n",
    "    print(\"We fail to reject the Null Hypothesis. The coin is not biased\")"
   ]
  },
  {
   "cell_type": "markdown",
   "id": "a28b8084-1c09-419c-a083-80e425916d99",
   "metadata": {},
   "source": []
  },
  {
   "cell_type": "markdown",
   "id": "db012755-84d2-4cd1-97bd-7e593bae57c3",
   "metadata": {},
   "source": [
    "Q9. A study was conducted to determine if there is an association between smoking status (smoker or\n",
    "non-smoker) and lung cancer diagnosis (yes or no). The results are shown in the contingency table below.\n",
    "Conduct a chi-square test for independence to determine if there is a significant association between\n",
    "smoking status and lung cancer diagnosis.\n",
    "\n",
    "|           | Lung Cancer: Yes | Lung Cancer: No |\n",
    "|     ---   | ----             |  ------         |\n",
    "| Smoker    | 60               |  140            |\n",
    "| Non-smoker| 30               | 170             | \n",
    "\n",
    "\n",
    "Use a significance level of 0.05.\n",
    "\n",
    "Ans. Firstly, we calculate row and column totals: \n",
    "\n",
    "|            | Lung Cancer: Yes | Lung Cancer: No | Row totals |\n",
    "|     ---    | ----             |  ------         | ---        | \n",
    "| Smoker     | 60               |  140            | 200        |\n",
    "| Non-smoker | 30               | 170             | 200        |\n",
    "|Column total| 90               | 310             | Grand total = 400 |\n",
    "\n",
    "Now expected values for every cell are found using formula:\n",
    "$$ expected\\_value = \\frac{row\\_total * column\\_total}{grand\\_total} $$\n",
    "thus\n",
    "\n",
    "|           | Lung Cancer: Yes | Lung Cancer: No |\n",
    "|     ---   | ----             |  ------         |\n",
    "| Smoker    | 45               | 155             |\n",
    "| Non-smoker| 45               | 155             |\n",
    "\n",
    "- $H_0$: Null Hypothesis: There is no significant association between smoking status and lung cancer diagnosis.\n",
    "- $H_1$: Alternative Hypothesis: There is a significant association between smoking status and lung cancer diagnosis.\n",
    "\n",
    "Chi square test is performed using python:"
   ]
  },
  {
   "cell_type": "code",
   "execution_count": 9,
   "id": "3f1cbaaa-8ee1-45ff-9dda-689e5045db4c",
   "metadata": {},
   "outputs": [
    {
     "name": "stdout",
     "output_type": "stream",
     "text": [
      "RESULT:\n",
      "Chi-square statistic = 12.9\n",
      "Critical value = 7.815\n",
      "We reject the Null Hypothesis. \n",
      "There is a significant association between smoking status and lung cancer diagnosis.\n"
     ]
    }
   ],
   "source": [
    "import scipy.stats as stat\n",
    "import numpy as np\n",
    "\n",
    "expected = [45, 45, 155, 155] \n",
    "observed = [60, 30, 140, 170]\n",
    "\n",
    "significance_level = 0.05\n",
    "dof = len(observed)-1\n",
    "\n",
    "chi_stat, p_value = stat.chisquare(observed, expected)\n",
    "\n",
    "critical_value = stat.chi2.ppf(1-significance_level,dof)\n",
    "\n",
    "print(\"RESULT:\")\n",
    "print(f'Chi-square statistic = {chi_stat:.4}')\n",
    "print(f'Critical value = {critical_value:.4}')\n",
    "if chi_stat > critical_value:\n",
    "    print(\"\"\"We reject the Null Hypothesis. \n",
    "There is a significant association between smoking status and lung cancer diagnosis.\"\"\")\n",
    "else:\n",
    "    print(\"\"\"We fail to reject the Null Hypothesis. \n",
    "There is a significant association between smoking status and lung cancer diagnosis.\"\"\")"
   ]
  },
  {
   "cell_type": "markdown",
   "id": "249b7703-c681-4472-939f-a9ba6ba0a766",
   "metadata": {},
   "source": []
  },
  {
   "cell_type": "markdown",
   "id": "1e804fdb-1882-49f1-b1ea-2802b1aa1d65",
   "metadata": {},
   "source": [
    "Q10. A study was conducted to determine if the proportion of people who prefer milk chocolate, dark\n",
    "chocolate, or white chocolate is different in the U.S. versus the U.K. A random sample of 500 people from\n",
    "the U.S. and a random sample of 500 people from the U.K. were surveyed. The results are shown in the\n",
    "contingency table below. Conduct a chi-square test for independence to determine if there is a significant\n",
    "association between chocolate preference and country of origin.\n",
    "\n",
    "|           | Milk Chocolate | Dark Chocolate | White Chocolate |\n",
    "|     ---   | ----             |  ------         | --|\n",
    "| US        | 200               | 150             |150|\n",
    "| UK        | 225               | 175             | 100|\n",
    "\n",
    "Use a significance level of 0.01.\n",
    "\n",
    "Ans. The expected table is derived as follows:\n",
    "\n",
    "|           | Milk Chocolate | Dark Chocolate    | White Chocolate | Row total|\n",
    "|     ---   | ----             |  ------         | --    | -- |\n",
    "| US        | 200               | 150             |150   | 500 |\n",
    "| UK        | 225               | 175             | 100  | 500 |\n",
    "|Column total | 425 | 325 | 250 | Grand total = 1000 |\n",
    "\n",
    "Expected table:\n",
    "\n",
    "|           | Milk Chocolate | Dark Chocolate | White Chocolate |\n",
    "|     ---   | ----             |  ------         | --|\n",
    "| US        | 212.5               | 162.5             |125|\n",
    "| UK        | 212.5               | 162.5             | 125|\n",
    "\n",
    "- $H_0$: Null Hypothesis: There is no significant association between chocolate preference and country of origin.\n",
    "- $H_1$: Alternative Hypothesis: There is a significant association between chocolate preference and country of origin"
   ]
  },
  {
   "cell_type": "code",
   "execution_count": 6,
   "id": "ca1d83db-109d-4e62-8e29-7c067e45ad15",
   "metadata": {},
   "outputs": [
    {
     "name": "stdout",
     "output_type": "stream",
     "text": [
      "RESULT:\n",
      "Chi-square statistic = 13.83\n",
      "Critical value = 11.07\n",
      "We reject the Null Hypothesis. \n",
      "There is a significant association between chocolate preference and country of origin.\n"
     ]
    }
   ],
   "source": [
    "import scipy.stats as stat\n",
    "import numpy as np\n",
    "\n",
    "expected = [200, 225, 150, 175, 150, 100]\n",
    "observed = [212.5, 212.5, 162.5, 162.5, 125, 125]\n",
    "\n",
    "significance_level = 0.05\n",
    "dof = len(observed)-1\n",
    "\n",
    "chi_stat, p_value = stat.chisquare(observed, expected)\n",
    "\n",
    "critical_value = stat.chi2.ppf(1-significance_level,dof)\n",
    "\n",
    "print(\"RESULT:\")\n",
    "print(f'Chi-square statistic = {chi_stat:.4}')\n",
    "print(f'Critical value = {critical_value:.4}')\n",
    "\n",
    "if chi_stat > critical_value:\n",
    "    print(\"\"\"We reject the Null Hypothesis. \n",
    "There is a significant association between chocolate preference and country of origin.\"\"\")\n",
    "else:\n",
    "    print(\"\"\"We fail to reject the Null Hypothesis. \n",
    "There is no significant association between chocolate preference and country of origin.\"\"\")"
   ]
  },
  {
   "cell_type": "markdown",
   "id": "7543bfd9-62d4-4b0f-9ede-c1f9ea6cc7bf",
   "metadata": {},
   "source": []
  },
  {
   "cell_type": "markdown",
   "id": "d97357b5-8bca-47db-a671-ebb4fcd80c20",
   "metadata": {},
   "source": [
    "Q11. A random sample of 30 people was selected from a population with an unknown mean and standard\n",
    "deviation. The sample mean was found to be 72 and the sample standard deviation was found to be 10.\n",
    "Conduct a hypothesis test to determine if the population mean is significantly different from 70. Use a\n",
    "significance level of 0.05.\n",
    "\n",
    "Ans. We have $\\mu=70, $$\\bar{x}=72$, $n=30$, $S=10$, $\\alpha=0.05$. The null and alternative hypothesis are:\n",
    "\n",
    "- $H_0$: Null Hypothesis: the population mean is not significantly different from 70.\n",
    "- $H_1$: Alternative Hypothesis: the population mean is significantly different from 70\n",
    "\n",
    "Using the formula,\n",
    "$$ t = \\frac{\\bar{x} - \\mu }{\\frac{S}{\\sqrt{n}}} $$\n",
    "\n",
    "Solution using python is as follows:"
   ]
  },
  {
   "cell_type": "code",
   "execution_count": 4,
   "id": "d704bf52-4b2f-41b6-be1f-5a22377f1ae1",
   "metadata": {},
   "outputs": [
    {
     "name": "stdout",
     "output_type": "stream",
     "text": [
      "RESULT:\n",
      "We accept the Null Hypothesis. The population mean is not significantly different from 70\n"
     ]
    }
   ],
   "source": [
    "import scipy.stats as sta\n",
    "from math import sqrt\n",
    "\n",
    "n = 30\n",
    "sample_mean = 72\n",
    "sample_std = 10\n",
    "mean = 70\n",
    "significance_level = 0.05\n",
    "dof = n - 1 \n",
    "\n",
    "t = (sample_mean-mean)/(sample_std/sqrt(n))\n",
    "p = stat.t.ppf(1-significance_level/2, dof)\n",
    "\n",
    "print(\"RESULT:\")\n",
    "\n",
    "if t<-p or t>p:\n",
    "    print(\"We reject the Null Hypothesis. The population mean is significantly different from 70\")\n",
    "else:\n",
    "    print(\"We accept the Null Hypothesis. The population mean is not significantly different from 70\")\n"
   ]
  },
  {
   "cell_type": "markdown",
   "id": "5ce7f9e6-5d3e-40e5-8c35-7a06179592a2",
   "metadata": {},
   "source": []
  }
 ],
 "metadata": {
  "kernelspec": {
   "display_name": "Python 3 (ipykernel)",
   "language": "python",
   "name": "python3"
  },
  "language_info": {
   "codemirror_mode": {
    "name": "ipython",
    "version": 3
   },
   "file_extension": ".py",
   "mimetype": "text/x-python",
   "name": "python",
   "nbconvert_exporter": "python",
   "pygments_lexer": "ipython3",
   "version": "3.10.8"
  }
 },
 "nbformat": 4,
 "nbformat_minor": 5
}
