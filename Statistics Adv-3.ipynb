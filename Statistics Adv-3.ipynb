{
 "cells": [
  {
   "cell_type": "markdown",
   "id": "b97ca474-d3e5-44ad-a192-efb91bea780a",
   "metadata": {},
   "source": [
    "# Statistics Advanced-3"
   ]
  },
  {
   "cell_type": "markdown",
   "id": "1c6639b5-9018-47a3-963d-ea2e0e6cb3e3",
   "metadata": {},
   "source": []
  },
  {
   "cell_type": "markdown",
   "id": "750d9f64-6df7-4a31-bce8-4533b2bf556e",
   "metadata": {},
   "source": [
    "Q1: What is Estimation Statistics? Explain point estimate and interval estimate.\n",
    "\n",
    "Ans. Estimation statistics is the use of various statistical methods and techniques to derive information about a larger population data from the available sample data. \n",
    "\n",
    "**Point Estimate** - a point estimate is a single value that is used to estimate or find the approximate value of any given population parameter. For example, if we calculate the sample mean and estimate the population mean based on that then it is an example of point estimate.\n",
    "\n",
    "**Interval Estimate** - here we provide a range of values called the confidence interval. We say that the population parameter is likely to fall in the given range. For example, we can have a confidence interval of 95% from 40-45 then it means there are 95% chance that the calclulated population mean from samp0le mean falls in this range."
   ]
  },
  {
   "cell_type": "markdown",
   "id": "9d415b11-fe89-4f03-a131-7747073b91ab",
   "metadata": {},
   "source": []
  },
  {
   "cell_type": "markdown",
   "id": "5c24661b-3745-4d22-bda4-feb70a2768a6",
   "metadata": {},
   "source": [
    "Q2. Write a Python function to estimate the population mean using a sample mean and standard\n",
    "deviation.\n",
    "\n",
    "Ans. If we have the sample mean $\\bar{x}$, sample standard deviation $s$, then we can use the t-distribution formula to construct a confidence interval for the population mean using the following formula:\n",
    "$$CI = \\bar{x} \\pm t_{\\alpha/2} \\left(\\frac{s}{\\sqrt{n}}\\right)$$\n",
    "where,\n",
    "- $\\alpha$ is the significance value\n",
    "- $n$  is the sample size\n",
    "- $t_{\\alpha/2}$ is the t value from the t table for $\\alpha/2$, and with degree of freedom $n-1$\n",
    "\n",
    "The formula can be implemented using a python function in the following way:"
   ]
  },
  {
   "cell_type": "code",
   "execution_count": 25,
   "id": "1975bd52-3859-4c00-a783-8b0cac938b21",
   "metadata": {},
   "outputs": [],
   "source": [
    "def test(mean, std, sample_size, confidence=95, tail=2):\n",
    "    from scipy import stats\n",
    "    import math\n",
    "    alpha = 1-(confidence/100)\n",
    "    t = stats.t.isf(alpha/tail, sample_size-1)\n",
    "    margin = (t*std)/math.sqrt(sample_size)\n",
    "    CI = (mean-margin, mean+margin)\n",
    "    return f\"The {confidence}% confidence interval of population mean is {CI}\""
   ]
  },
  {
   "cell_type": "markdown",
   "id": "8bb3fd53-d74e-4ee8-a516-d4e0fd364225",
   "metadata": {},
   "source": [
    "The above function takes 5 arguments:\n",
    "- mean: the given sample mean\n",
    "- std: the given smaple standard deviation\n",
    "- sample_size: the size of given sample\n",
    "- confidence: this is the confidence level, if it is not given, the derfault level is 95%\n",
    "- tail: this specifies whether it is a one or two tail test. The default value is 2\n",
    "\n",
    "It returns output in the form of a tuple which gives us the range in which our population mean lies.\n",
    "\n",
    "An example is as shown:"
   ]
  },
  {
   "cell_type": "code",
   "execution_count": 11,
   "id": "055f2171-bac6-4eb7-be3b-c95aeb95e024",
   "metadata": {},
   "outputs": [
    {
     "data": {
      "text/plain": [
       "'The 95% confidence interval of population mean is (72.15803144877627, 77.84196855122373)'"
      ]
     },
     "execution_count": 11,
     "metadata": {},
     "output_type": "execute_result"
    }
   ],
   "source": [
    "test(75, 10, 50, 95, 2)"
   ]
  },
  {
   "cell_type": "code",
   "execution_count": 12,
   "id": "5350c32d-2b37-4c03-98b7-9b1898914f7b",
   "metadata": {},
   "outputs": [
    {
     "data": {
      "text/plain": [
       "'The 95% confidence interval of population mean is (132.531877264838, 147.468122735162)'"
      ]
     },
     "execution_count": 12,
     "metadata": {},
     "output_type": "execute_result"
    }
   ],
   "source": [
    "test(140, 20, 30)"
   ]
  },
  {
   "cell_type": "markdown",
   "id": "c83f618e-a58a-4d0a-b241-691871875ab6",
   "metadata": {},
   "source": []
  },
  {
   "cell_type": "markdown",
   "id": "13a1ba38-e9af-4cbd-a611-a225b288f826",
   "metadata": {},
   "source": [
    "Q3: What is Hypothesis testing? Why is it used? State the importance of Hypothesis testing.\n",
    "\n",
    "Ans. Hypothesis testing is a fundamental concept in statistics used to make decisions about population parameters based on sample data. Here we formulate two hypotheses, the null hypothesis (denoted as $H_0$) and the alternate hypothesis (denoted as $H_1$). Then we use the sample data to check which of the two hypothesis is true. \n",
    "\n",
    "Hypothesis testing is used to determine whether there is enough evidence to support the null hypothesis. Depending on result, we say that either we reject the null hypothesis or we fail to reject the null hypothesis.\n",
    "\n",
    "Importance of Hypothesis testing - Hypothesis testing is used to check the validity of scienntific theories. It help us in making decision and policies based on data. It is used in various research fields. For example hypothesis testing can help us determine whether a new medication is effective or not. "
   ]
  },
  {
   "cell_type": "markdown",
   "id": "c0505e0f-7235-4da3-9af9-ed17833ea394",
   "metadata": {},
   "source": []
  },
  {
   "cell_type": "markdown",
   "id": "2d7f9cfb-d428-48f2-8d85-a6fbb6962caf",
   "metadata": {},
   "source": [
    "Q4. Create a hypothesis that states whether the average weight of male college students is greater than\n",
    "the average weight of female college students.\n",
    "\n",
    "Ans. Let the average weight of male college students is $\\bar{x}_m$ and the average weight of female college students is $\\bar{x}_f$. The Null and Alternate Hypothesis are as follows:\n",
    "\n",
    "- **Null Hypothesis** $$H_0 = \\bar{x}_m \\gt \\bar{x}_f$$\n",
    "- **Alternate Hypothesis** $$H_1 = \\bar{x}_m \\le \\bar{x}_f$$"
   ]
  },
  {
   "cell_type": "markdown",
   "id": "8118217f-f45a-41ad-86bb-b14e856b98f4",
   "metadata": {},
   "source": []
  },
  {
   "cell_type": "markdown",
   "id": "58ef0659-22ad-41a2-99d3-c1ec1938adde",
   "metadata": {},
   "source": [
    "Q5. Write a Python script to conduct a hypothesis test on the difference between two population means,\n",
    "given a sample from each population.\n",
    "\n",
    "Ans. The formula used for this case is:\n",
    "$$ t = \\frac{\\bar{x}_1 - \\bar{x}_2}{s_p.\\sqrt{\\frac{1}{n_1} + \\frac{1}{n_2}}} $$\n",
    "\n",
    "where $s_p$ is the pooled standard deviation\n",
    "$$ s_p = \\sqrt{\\frac{(n_1-1)s_1^2 + (n_2-1)s_2^2}{n_1 + n_2 - 2}}$$\n",
    "\n",
    "- $s_1$ : standard deviation of first sample\n",
    "- $s_2$ : standard deviation of second sample\n",
    "- $\\bar{x}_1$ : mean of first sample \n",
    "- $\\bar{x}_2$ : mean of second sample \n",
    "- $n_1$ : sample size of first sample \n",
    "- $n_2$ : sample size of second sample \n",
    "\n",
    "A python function to achieve this is as shown:"
   ]
  },
  {
   "cell_type": "code",
   "execution_count": 2,
   "id": "012f0e0b-a502-4d69-ad17-37bb8e645b65",
   "metadata": {},
   "outputs": [],
   "source": [
    "def test_2(mean1, mean2, std1, std2, n1, n2, significance_value=0.05):\n",
    "    import scipy.stats as stat\n",
    "    import numpy as np\n",
    "    \n",
    "    dof =  n1 + n2 - 2\n",
    "    \n",
    "    std_pooled = np.sqrt(((n1 - 1) * std1**2 + (n2 - 1) * std2**2) / (n1 + n2 - 2))\n",
    "    \n",
    "    t = (mean1 - mean2) / (std_pooled * np.sqrt(1/n1 + 1/n2))\n",
    "    \n",
    "    critical = stat.t.ppf(1-significance_value/2, dof)\n",
    "    \n",
    "    print(f\"t : {t}\")\n",
    "    \n",
    "    print(f\"critical value : {critical}\")\n",
    "    if t>critical or t<-critical:\n",
    "        print(\"We reject the Null Hypothesis. Means are not equal\")\n",
    "    else:\n",
    "        print(\"We fail to reject the Null Hypothesis. Means are equal\")\n"
   ]
  },
  {
   "cell_type": "code",
   "execution_count": 7,
   "id": "9a6eff96-7eeb-42c8-8757-29204cc913fd",
   "metadata": {},
   "outputs": [
    {
     "name": "stdout",
     "output_type": "stream",
     "text": [
      "t : -2.799166888569627\n",
      "critical value : 2.079613844727662\n",
      "We reject the Null Hypothesis. Means are not equal\n"
     ]
    }
   ],
   "source": [
    "test_2(14.95,22.29, 6.84, 5.32, 13, 10)"
   ]
  },
  {
   "cell_type": "markdown",
   "id": "0b611d41-03d2-4ceb-abc8-d4c326f00258",
   "metadata": {},
   "source": []
  },
  {
   "cell_type": "markdown",
   "id": "42530602-6076-413c-9460-eb5af1a7096c",
   "metadata": {},
   "source": [
    "Q6: What is a null and alternative hypothesis? Give some examples.\n",
    "\n",
    "Ans. Null and alternative hypotheses are the two statements formulated in the Hypothesis testing process. \n",
    "\n",
    "- **Null Hypothesis** : It is denoted by $H_0$. This is the initial assumption. Here we assume that there is no change between the observed values and population parameters. It is the condition of no effect. We assume there are no changes.\n",
    "\n",
    "- **Alternative hypothesis** : It is denoted by $H_1$. This is the condition of change. It is contradictory to the null hypothesis. It is the case of differennce between our parameters.\n",
    "\n",
    "Examples are as follows:\n",
    "\n",
    "- Suppose the mean IQ of a populaiton is $\\mu_0$. Now a medication is tested on a sample and the new IQ of sample is $\\mu$. Now if we have to test whether the medication was effective or not, then Null and Alternative Hypotheses are as follows:\n",
    "    - $H_0$ : $\\mu = \\mu_0$ : This means sample and population mean are equal and the medication had no effect.\n",
    "    - $H_1$ : $\\mu \\ne \\mu_0 $ : This means the means are not equal and the medication had some effect. If $\\mu < \\mu_0$, then the medication reduced IQ. But if $\\mu > \\mu_0$, then this means medication improved the IQ.\n",
    "- Suppose a company claims that average life of a bulb is at least 5 years. A sample is collected and average life calculated to check if this claim is true. Suppose the average life of sample is $\\mu$. Then Null and Alternative Hypotheses are as follows:\n",
    "    - $H_0$ : $\\mu \\ge 5$ : This means the average life is at least 5 years and claim of company is true.\n",
    "    - $H_1$ : $\\mu \\le 5$ : This means the average life is less than 5yrs and claim of company is false.\n",
    "    \n",
    "The first example will use a two -tailed test while the second will use one-tail test."
   ]
  },
  {
   "cell_type": "markdown",
   "id": "8d9290c9-8645-4409-8e71-a699aef43e9e",
   "metadata": {},
   "source": []
  },
  {
   "cell_type": "markdown",
   "id": "fff12811-7138-4461-94f0-66d277991e52",
   "metadata": {},
   "source": [
    "Q7: Write down the steps involved in hypothesis testing.\n",
    "\n",
    "Ans. The steps involved in Hypothesis testing are:\n",
    "\n",
    "1. **Formulating Hypotheses:**\n",
    "    - Null Hypothesis ($H_0$): This hypothesis represents the default assumption. It suggests that any observed effect is due to random chance or sampling variability.\n",
    "    - Alternative Hypothesis ($H_1$): This hypothesis presents the researcher's claim or the effect they are trying to find evidence for. It suggests that there is a real and significant difference or effect in the population.\n",
    "2. **Collecting and Analyzing Data:** Data is collected from a sample, and statistical tests are performed to assess whether the sample data provides enough evidence to reject the null hypothesis in favor of the alternative hypothesis.\n",
    "3. **Calculating Test Statistics:** Various test statistics are calculated based on the sample data. These statistics depend on the specific hypothesis test being used (e.g., t-test, z-test, chi-squared test, etc.).\n",
    "4. **Determining Significance:** The calculated test statistic is compared to a critical value or p-value. The critical value is determined based on the chosen significance level (&alpha:), while the p-value indicates the probability of obtaining a result as extreme as, or more extreme than, the observed result if the null hypothesis is true.\n",
    "5. **Making a Decision:** Based on the comparison of the test statistic and the critical value or p-value:\n",
    "    - If the p-value is less than or equal to the significance level (&alpha;), we reject the null hypothesis in favor of the alternative hypothesis. This suggests that there is evidence to support the claim made in the alternative hypothesis.\n",
    "    - If the p-value is greater than the significance level, we fail to reject the null hypothesis. "
   ]
  },
  {
   "cell_type": "markdown",
   "id": "c12e6d18-242a-483b-9223-8df85cc82011",
   "metadata": {},
   "source": []
  },
  {
   "cell_type": "markdown",
   "id": "a15cab3c-2ece-4b8a-bf03-f7b9a24caeed",
   "metadata": {},
   "source": [
    "Q8. Define p-value and explain its significance in hypothesis testing.\n",
    "\n",
    "Ans. The p-value or the probability value is a number calculated using any statistical test.  The p-value gives the likelihood, the chance of getting the observed result if the null hypothesis is true. \n",
    "\n",
    "In Hypothesis Testing, p-value is used to determine whether we accept or reject the null hypothesis.\n",
    "\n",
    "- If the p-value is less than or equal to the significance level (&alpha;), we reject the null hypothesis in favor of the alternative hypothesis. This suggests that there is evidence to support the claim made in the alternative hypothesis.\n",
    "- If the p-value is greater than the significance level, we fail to reject the null hypothesis. "
   ]
  },
  {
   "cell_type": "markdown",
   "id": "59467631-cc41-4384-b9d9-1dbef3431897",
   "metadata": {},
   "source": []
  },
  {
   "cell_type": "markdown",
   "id": "ca7208be-12cd-47a7-b642-14fd3a7dd3e6",
   "metadata": {},
   "source": [
    "Q9. Generate a Student's t-distribution plot using Python's matplotlib library, with the degrees of freedom\n",
    "parameter set to 10."
   ]
  },
  {
   "cell_type": "code",
   "execution_count": 21,
   "id": "5babbc6e-6435-4512-b97a-6de3265e3e13",
   "metadata": {},
   "outputs": [
    {
     "data": {
      "image/png": "[encoded data removed]",
      "text/plain": [
       "<Figure size 640x480 with 1 Axes>"
      ]
     },
     "metadata": {},
     "output_type": "display_data"
    }
   ],
   "source": [
    "# Import modules\n",
    "import numpy as np\n",
    "import matplotlib.pyplot as plt\n",
    "from scipy.stats import t\n",
    "\n",
    "# Set degrees of freedom\n",
    "df = 10\n",
    "\n",
    "# Create x values\n",
    "x = np.linspace(t.ppf(0.01, df), t.ppf(0.99, df), 100)\n",
    "\n",
    "# Compute probability density function\n",
    "y = t.pdf(x, df)\n",
    "\n",
    "# Plot the graph\n",
    "plt.plot(x, y)\n",
    "plt.title(f\"Student's t-distribution with {df} degrees of freedom\")\n",
    "plt.xlabel(\"x\")\n",
    "plt.ylabel(\"Probability density\")\n",
    "plt.show()"
   ]
  },
  {
   "cell_type": "markdown",
   "id": "4b4da01e-ac78-4128-b924-84308459058f",
   "metadata": {},
   "source": []
  },
  {
   "cell_type": "markdown",
   "id": "557abc44-015b-440f-8ab3-07fb1a1686b3",
   "metadata": {},
   "source": [
    "Q10. Write a Python program to calculate the two-sample t-test for independent samples, given two random samples of equal size and a null hypothesis that the population means are equal.\n",
    "\n",
    "Ans. The formula used in this scenario will be:\n",
    "\n",
    "$$ t = \\frac{\\bar{x}_1 - \\bar{x}_2}{s_p.\\sqrt{\\frac{2}{n}}} $$\n",
    "\n",
    "where $s_p$ is the pooled standard deviation\n",
    "$$ s_p = \\sqrt{\\frac{s_1^2 + s_2^2}{2}}$$\n",
    "\n",
    "- $s_1$ : standard deviation of first sample\n",
    "- $s_2$ : standard deviation of second sample\n",
    "- $\\bar{x}_1$ : mean of first sample \n",
    "- $\\bar{x}_2$ : mean of second sample \n",
    "- $n$ : sample size\n",
    "\n",
    "A python function is as shown:"
   ]
  },
  {
   "cell_type": "code",
   "execution_count": 5,
   "id": "a747fc12-bb52-4ba1-9d58-022a03d4ada8",
   "metadata": {},
   "outputs": [],
   "source": [
    "def test_3(mean1, mean2, s1, s2, size, significance_value=0.05):\n",
    "    import scipy.stats as stat\n",
    "    import numpy as np\n",
    "    \n",
    "    dof = 2*(size-1)\n",
    "    std_pooled = np.sqrt((s1**2 + s2**2)/2)\n",
    "    t = (mean1-mean2)/np.sqrt(2/size)\n",
    "    critical = stat.t.ppf(1-significance_value/2, dof)\n",
    "    \n",
    "    print(f\"t : {t}\")\n",
    "    print(f\"critical value : {critical}\")\n",
    "    if t>critical or t<-critical:\n",
    "        print(\"We reject the Null Hypothesis. Means are not equal\")\n",
    "    else:\n",
    "        print(\"We fail to reject the Null Hypothesis. Means are equal\")\n",
    "    "
   ]
  },
  {
   "cell_type": "markdown",
   "id": "5992e571-1aca-4438-8da4-8f9457ac366b",
   "metadata": {},
   "source": [
    "For example:"
   ]
  },
  {
   "cell_type": "code",
   "execution_count": 6,
   "id": "bc0c944a-d3c3-4161-a5aa-ccdbfc7d1656",
   "metadata": {},
   "outputs": [
    {
     "name": "stdout",
     "output_type": "stream",
     "text": [
      "t : -10.0\n",
      "critical value : 1.984467454426692\n",
      "We reject the Null Hypothesis. Means are not equal\n"
     ]
    }
   ],
   "source": [
    "test_3(25, 27, 5, 6, 50)"
   ]
  },
  {
   "cell_type": "markdown",
   "id": "4b2bfc58-e448-4458-b264-9ce52b90774e",
   "metadata": {},
   "source": []
  },
  {
   "cell_type": "markdown",
   "id": "281932ec-4615-491c-a5de-d3b0b120f55e",
   "metadata": {},
   "source": [
    "Q11: What is Student's t distribution? When to use the t-Distribution.\n",
    "\n",
    "Ans. Student's t distribution, also known as t-distribution, is a kind of distribution similar ot Z-distribution which is used to calculate population parameters from sample parameters. \n",
    "\n",
    "t-distribution is ussed when:\n",
    "- sample size, n, is not large, it is small\n",
    "- when the population standard deviation is nopt available\n"
   ]
  },
  {
   "cell_type": "markdown",
   "id": "abdf880c-2e73-4990-91dd-e60f13c6c94a",
   "metadata": {},
   "source": []
  },
  {
   "cell_type": "markdown",
   "id": "42885574-335b-4bce-8389-48b870989625",
   "metadata": {},
   "source": [
    "Q12: What is t-statistic? State the formula for t-statistic.\n",
    "\n",
    "Ans. A t-statistic is a value used in Hypothesis Tesiting using the Student's t-distribution.\n",
    "It's formula is:\n",
    "\n",
    "$$ t = \\frac{\\bar{x} - \\mu }{\\frac{S}{\\sqrt{n}}} $$\n",
    "\n",
    "where\n",
    "- $\\bar{x}$ is the sample mean\n",
    "- $\\mu$ is the population mean\n",
    "- $S$ is sample standard deviation\n",
    "- $n$ is the sample size"
   ]
  },
  {
   "cell_type": "markdown",
   "id": "bdbbb5a8-8bad-4659-afbd-a34b921edda3",
   "metadata": {},
   "source": []
  },
  {
   "cell_type": "markdown",
   "id": "9476cf11-e564-4927-8b46-3cddb918c51c",
   "metadata": {},
   "source": [
    "Q13. A coffee shop owner wants to estimate the average daily revenue for their shop. They take a random\n",
    "sample of 50 days and find the sample mean revenue to be ${$500}$ with a standard deviation of ${$50}$. \n",
    "Estimate the population mean revenue with a 95% confidence interval.\n",
    "\n",
    "Ans. We have $n$=50, $\\bar{x} = 500$, $s=50$, and $\\alpha=1-0.95=0.05$\n",
    "\n",
    "We can use t-distribution formaula to find the confidence interval of population mean:\n",
    "$$CI = \\bar{x} \\pm t_{\\alpha/2}. \\left(\\frac{s}{\\sqrt{n}}\\right)$$\n",
    "\n",
    "where $t_{\\alpha/2}. \\left(\\frac{s}{\\sqrt{n}}\\right)$ is the margin of error.\n",
    "\n",
    "Solution using pyhton is as follows:"
   ]
  },
  {
   "cell_type": "code",
   "execution_count": 22,
   "id": "a17e1a7f-94f8-4066-a4a8-739ebe04c890",
   "metadata": {},
   "outputs": [
    {
     "name": "stdout",
     "output_type": "stream",
     "text": [
      "The 95% confidence interval of population mean is (485.79015724388137, 514.2098427561186)\n"
     ]
    }
   ],
   "source": [
    "from scipy import stats\n",
    "import math\n",
    "\n",
    "sample_mean = 500\n",
    "std = 50\n",
    "n = 50\n",
    "confidence = 95\n",
    "alpha = 1-(confidence/100)\n",
    "\n",
    "t = stats.t.isf(alpha/2, n-1)\n",
    "margin = (t*std)/math.sqrt(n)\n",
    "CI = (sample_mean-margin, sample_mean+margin)\n",
    "print(f\"The {confidence}% confidence interval of population mean is {CI}\")"
   ]
  },
  {
   "cell_type": "markdown",
   "id": "f702dd7a-497b-41ea-b776-fb02ec977df7",
   "metadata": {},
   "source": [
    "Also, using the function created in Q2, we get"
   ]
  },
  {
   "cell_type": "code",
   "execution_count": 23,
   "id": "683b52c6-b94f-4454-93d1-7698c6175802",
   "metadata": {},
   "outputs": [
    {
     "data": {
      "text/plain": [
       "'The 95% confidence interval of population mean is (485.79015724388137, 514.2098427561186)'"
      ]
     },
     "execution_count": 23,
     "metadata": {},
     "output_type": "execute_result"
    }
   ],
   "source": [
    "test(500,50,50,95)"
   ]
  },
  {
   "cell_type": "markdown",
   "id": "4e8eda6b-d8f9-44eb-8be9-decec98a463a",
   "metadata": {},
   "source": [
    "Both results are same, thus our function is also accurate."
   ]
  },
  {
   "cell_type": "markdown",
   "id": "ee0b41af-da1a-4322-a976-1f5ff9d78105",
   "metadata": {},
   "source": []
  },
  {
   "cell_type": "markdown",
   "id": "7e09024f-d6cf-40d0-9722-98c0e1b39a03",
   "metadata": {},
   "source": [
    "Q14. A researcher hypothesizes that a new drug will decrease blood pressure by 10 mmHg. They conduct a\n",
    "clinical trial with 100 patients and find that the sample mean decrease in blood pressure is 8 mmHg with a\n",
    "standard deviation of 3 mmHg. Test the hypothesis with a significance level of 0.05.\n",
    "\n",
    "Ans. We have $\\bar{x}=8$, $n=100$, $S=3$, $\\alpha=0.05$. The null and alternative hypothesis are:\n",
    "- $H_0$: $\\mu=10$\n",
    "- $H_1$: $\\mu \\ne 10$\n",
    "\n",
    "As population standard deviation is not given, we will use t-statistics. Using Pyhton, the solution can be obtained as shown:"
   ]
  },
  {
   "cell_type": "code",
   "execution_count": 24,
   "id": "9acb0fe8-fcf2-445b-b8b1-67ad40f79f52",
   "metadata": {},
   "outputs": [
    {
     "name": "stdout",
     "output_type": "stream",
     "text": [
      "RESULT:\n",
      "We reject the Null Hypothesis. The new drug will not decrease blood pressure by 10 mmHg\n"
     ]
    }
   ],
   "source": [
    "import scipy.stats as stat\n",
    "import numpy as np\n",
    "\n",
    "pop_mean = 10\n",
    "sample_mean = 8\n",
    "std = 3\n",
    "significance_level = 0.05\n",
    "sample_size = 100\n",
    "dof =sample_size-1\n",
    "\n",
    "t = (sample_mean-pop_mean)/(std/np.sqrt(sample_size))\n",
    "p = stat.t.ppf(1-significance_level/2, dof)\n",
    "\n",
    "print(\"RESULT:\")\n",
    "\n",
    "if t<-p or t>p:\n",
    "    print(\"We reject the Null Hypothesis. The new drug will not decrease blood pressure by 10 mmHg\")\n",
    "else:\n",
    "    print(\"We accept the Null Hypothesis. The new drug will decrease blood pressure by 10 mmHg\")\n"
   ]
  },
  {
   "cell_type": "markdown",
   "id": "c6bd1ae0-fb9c-45a6-9b42-a0a6b5705193",
   "metadata": {},
   "source": []
  },
  {
   "cell_type": "markdown",
   "id": "c9750192-33bc-460c-a2ca-8c294594d30d",
   "metadata": {},
   "source": [
    "Q15. An electronics company produces a certain type of product with a mean weight of 5 pounds and a\n",
    "standard deviation of 0.5 pounds. A random sample of 25 products is taken, and the sample mean weight\n",
    "is found to be 4.8 pounds. Test the hypothesis that the true mean weight of the products is less than 5\n",
    "pounds with a significance level of 0.01.\n",
    "\n",
    "Ans. We have $\\bar{x}=4.8$, $n=25$, $\\sigma=0.5$, $\\alpha=0.01$. The null and alternative hypothesis are:\n",
    "- $H_0$: $\\mu=5$\n",
    "- $H_1$: $\\mu \\lt 5$ (we will use 1-tail test)\n",
    "\n",
    " Using Pyhton, the solution can be obtained as shown:"
   ]
  },
  {
   "cell_type": "code",
   "execution_count": 7,
   "id": "d4494519-bfbf-4a6e-b9b5-29acd2d18d4d",
   "metadata": {},
   "outputs": [
    {
     "name": "stdout",
     "output_type": "stream",
     "text": [
      "RESULT:\n",
      "We reject the Null Hypothesis. Thus the true mean weight of the products is less than 5 pounds\n"
     ]
    }
   ],
   "source": [
    "import scipy.stats as stat\n",
    "import numpy as np\n",
    "\n",
    "pop_mean = 5\n",
    "sample_mean = 4.8\n",
    "std = 0.5\n",
    "significance_level = 0.01\n",
    "sample_size = 25\n",
    "\n",
    "z = (sample_mean-pop_mean)/(std/np.sqrt(sample_size))\n",
    "\n",
    "p = stat.norm.cdf(z)\n",
    "\n",
    "print(\"RESULT:\")\n",
    "\n",
    "if z<p:\n",
    "    print(\"We reject the Null Hypothesis. Thus the true mean weight of the products is less than 5 pounds\")\n",
    "else:\n",
    "    print(\"We fail to reject the Null Hypothesis. Thus true mean weight of the products is less than 5 pounds\")\n"
   ]
  },
  {
   "cell_type": "markdown",
   "id": "e7aad893-1ae3-4a5c-b926-a6773e63fc77",
   "metadata": {},
   "source": []
  },
  {
   "cell_type": "markdown",
   "id": "26938674-8b89-4ff7-84ea-40275ba43590",
   "metadata": {},
   "source": [
    "Q16. Two groups of students are given different study materials to prepare for a test. The first group (n1=30) has a mean score of 80 with a standard deviation of 10, and the second group (n2 = 40) has a mean score of 75 with a standard deviation of 8. Test the hypothesis that the population means for the two groups are equal with a significance level of 0.01.\n",
    "\n",
    "Ans. The formula used here is:\n",
    "$$ t = \\frac{\\bar{x}_1 - \\bar{x}_2}{s_p.\\sqrt{\\frac{1}{n_1} + \\frac{1}{n_2}}} $$\n",
    "\n",
    "where $s_p$ is the pooled standard deviation\n",
    "$$ s_p = \\sqrt{\\frac{(n_1-1)s_1^2 + (n_2-1)s_2^2}{n_1 + n_2 - 2}}$$\n"
   ]
  },
  {
   "cell_type": "code",
   "execution_count": 11,
   "id": "d6c08002-1cc0-4506-b861-8dca73ae2b3a",
   "metadata": {},
   "outputs": [
    {
     "name": "stdout",
     "output_type": "stream",
     "text": [
      "RESULT:\n",
      "t : 2.3239677296992913\n",
      "critical value : 2.6500812928169553\n",
      "We fail to reject the Null Hypothesis. Thus the population means for the two groups are equal\n"
     ]
    }
   ],
   "source": [
    "import numpy as np\n",
    "import scipy.stats as stat\n",
    "\n",
    "n1= 30\n",
    "mean_1=80\n",
    "s1=10\n",
    "n2=40\n",
    "mean_2=75\n",
    "s2=8\n",
    "\n",
    "dof = n1+n2-2\n",
    "pooled_std =  np.sqrt(((n1 - 1) * s1**2 + (n2 - 1) * s2**2) / (n1 + n2 - 2))\n",
    "\n",
    "t = (mean_1-mean_2)/(pooled_std*np.sqrt(1/n1+1/n2))\n",
    "critical = stat.t.ppf(1-0.01/2, dof)\n",
    "\n",
    "print(\"RESULT:\")\n",
    "print(f\"t : {t}\")\n",
    "print(f\"critical value : {critical}\")\n",
    "if t>critical or t<-critical:\n",
    "    print(\"We reject the Null Hypothesis. Thus the population means for the two groups are not equal\")\n",
    "else:\n",
    "    print(\"We fail to reject the Null Hypothesis. Thus the population means for the two groups are equal\")\n"
   ]
  },
  {
   "cell_type": "markdown",
   "id": "36d9b220-8289-4f75-964f-7286b5c82df9",
   "metadata": {},
   "source": [
    "Further, we created a funciton for such scenario in Q.5, using that function, we get"
   ]
  },
  {
   "cell_type": "code",
   "execution_count": 12,
   "id": "5b237bf5-62a9-4d8b-aa9c-8e86f6e8769c",
   "metadata": {},
   "outputs": [
    {
     "name": "stdout",
     "output_type": "stream",
     "text": [
      "t : 2.3239677296992913\n",
      "critical value : 2.6500812928169553\n",
      "We fail to reject the Null Hypothesis. Means are equal\n"
     ]
    }
   ],
   "source": [
    "test_2(80,75,10,8,30,40, 0.01)"
   ]
  },
  {
   "cell_type": "markdown",
   "id": "19afb8d5-87f5-40a2-95c8-e2ddba86f97c",
   "metadata": {},
   "source": [
    "Both results are exactly equal. Thus our function is flawless."
   ]
  },
  {
   "cell_type": "markdown",
   "id": "cfaf9859-d24b-48e0-bd73-4156aa4e3312",
   "metadata": {},
   "source": []
  },
  {
   "cell_type": "markdown",
   "id": "1c048a06-d48d-42be-b700-6650d1d1944b",
   "metadata": {},
   "source": [
    "Q17. A marketing company wants to estimate the average number of ads watched by viewers during a TV\n",
    "program. They take a random sample of 50 viewers and find that the sample mean is 4 with a standard\n",
    "deviation of 1.5. Estimate the population mean with a 99% confidence interval.\n",
    "\n",
    "Ans. We have $n$=50, $\\bar{x} = 4$, $s=1.5$, and $\\alpha=1-0.99=0.01$\n",
    "\n",
    "We can use t-distribution formaula to find the confidence interval of population mean:\n",
    "$$CI = \\bar{x} \\pm t_{\\alpha/2}. \\left(\\frac{s}{\\sqrt{n}}\\right)$$\n",
    "\n",
    "where $t_{\\alpha/2}. \\left(\\frac{s}{\\sqrt{n}}\\right)$ is the margin of error.\n",
    "\n",
    "Solution using pyhton is as follows:"
   ]
  },
  {
   "cell_type": "code",
   "execution_count": 17,
   "id": "ec2d9ab3-0bea-4b09-897d-d3b76fa1fcba",
   "metadata": {},
   "outputs": [
    {
     "name": "stdout",
     "output_type": "stream",
     "text": [
      "The 99% confidence interval of population mean is (3.4314963358572577, 4.568503664142742)\n"
     ]
    }
   ],
   "source": [
    "from scipy import stats\n",
    "import math\n",
    "\n",
    "sample_mean = 4\n",
    "std = 1.5\n",
    "n = 50\n",
    "confidence = 99\n",
    "alpha = 1-(confidence/100)\n",
    "\n",
    "t = stats.t.isf(alpha/2, n-1)\n",
    "margin = (t*std)/math.sqrt(n)\n",
    "CI = (sample_mean-margin, sample_mean+margin)\n",
    "print(f\"The {confidence}% confidence interval of population mean is {CI}\")"
   ]
  },
  {
   "cell_type": "markdown",
   "id": "1b9fa594-4873-4de2-813e-05e593df1e59",
   "metadata": {},
   "source": [
    "Also, using the function created in Q2, we get"
   ]
  },
  {
   "cell_type": "code",
   "execution_count": 19,
   "id": "bce96961-de1e-4820-ae00-08eb56a677e2",
   "metadata": {},
   "outputs": [
    {
     "data": {
      "text/plain": [
       "'The 99% confidence interval of population mean is (3.4314963358572577, 4.568503664142742)'"
      ]
     },
     "execution_count": 19,
     "metadata": {},
     "output_type": "execute_result"
    }
   ],
   "source": [
    "test(4,1.5,50,99)"
   ]
  },
  {
   "cell_type": "markdown",
   "id": "56dd1541-61d1-4d65-ba6c-f1f230ff9d9f",
   "metadata": {},
   "source": [
    "Both results are same, thus our funcition is also correct."
   ]
  },
  {
   "cell_type": "markdown",
   "id": "e245e4ad-5df1-475b-abf3-e72a36ce5343",
   "metadata": {},
   "source": []
  }
 ],
 "metadata": {
  "kernelspec": {
   "display_name": "Python 3 (ipykernel)",
   "language": "python",
   "name": "python3"
  },
  "language_info": {
   "codemirror_mode": {
    "name": "ipython",
    "version": 3
   },
   "file_extension": ".py",
   "mimetype": "text/x-python",
   "name": "python",
   "nbconvert_exporter": "python",
   "pygments_lexer": "ipython3",
   "version": "3.10.8"
  }
 },
 "nbformat": 4,
 "nbformat_minor": 5
}
