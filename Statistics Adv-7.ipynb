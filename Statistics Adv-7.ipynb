{
 "cells": [
  {
   "cell_type": "markdown",
   "id": "b8fc98a7-37b2-4412-9a75-857c25919596",
   "metadata": {},
   "source": [
    "# Statistics Adv-7"
   ]
  },
  {
   "cell_type": "markdown",
   "id": "3ab1b677-5433-4ba7-b450-5feb1b42564c",
   "metadata": {},
   "source": []
  },
  {
   "cell_type": "markdown",
   "id": "1b4fc138-83ca-4a39-a33f-9e6be1946c1f",
   "metadata": {},
   "source": [
    "Q1. Write a Python function that takes in two arrays of data and calculates the F-value for a variance ratio\n",
    "test. The function should return the F-value and the corresponding p-value for the test.\n",
    "\n",
    "Ans. F value is given by:\n",
    "$$ F = \\frac{S_1^2}{S_2^2} $$\n",
    "\n",
    "Python function is a shown:"
   ]
  },
  {
   "cell_type": "code",
   "execution_count": 49,
   "id": "a402a51f-6e98-4a70-ab70-502fd8855b4a",
   "metadata": {},
   "outputs": [],
   "source": [
    "def f_test(array_1, array_2):\n",
    "    import numpy as np\n",
    "    from scipy.stats import f\n",
    "    \n",
    "    df_1 = len(array_1)-1\n",
    "    df_2 = len(array_2)-1\n",
    "    var_1 = np.var(array_1)\n",
    "    var_2 = np.var(array_2)\n",
    "    \n",
    "    if var_1>var_2:\n",
    "        f_value = var_1/var_2\n",
    "        p_value = 1-f.cdf(f_value, df_1, df_2)\n",
    "    else:\n",
    "        f_value = var_2/var_1\n",
    "        p_value = 1-f.cdf(f_value, df_2, df_1)\n",
    "        \n",
    "    result = f\"F-value : {f_value} and p_value : {p_value}\"\n",
    "    \n",
    "    return result\n",
    "           "
   ]
  },
  {
   "cell_type": "markdown",
   "id": "213915de-e7fa-4bec-b44f-1616b1721329",
   "metadata": {},
   "source": [
    "Example:"
   ]
  },
  {
   "cell_type": "code",
   "execution_count": 50,
   "id": "92ef6026-75cf-4433-b5e8-6729fb8be0f2",
   "metadata": {},
   "outputs": [
    {
     "data": {
      "text/plain": [
       "'F-value : 4.387122002085506 and p_value : 0.01912653593238578'"
      ]
     },
     "execution_count": 50,
     "metadata": {},
     "output_type": "execute_result"
    }
   ],
   "source": [
    "group_1 = [18, 19, 22, 25, 27, 28, 41, 45, 51, 55]\n",
    "group_2 = [14, 15, 15, 17, 18, 22, 25, 25, 27, 34]\n",
    "\n",
    "f_test(group_1, group_2)"
   ]
  },
  {
   "cell_type": "markdown",
   "id": "856d0186-ba4d-44aa-8632-c1e4f312ddb0",
   "metadata": {},
   "source": []
  },
  {
   "cell_type": "markdown",
   "id": "cbb7236e-db07-4241-9209-836db6fa2d66",
   "metadata": {},
   "source": [
    "Q2. Given a significance level of 0.05 and the degrees of freedom for the numerator and denominator of an\n",
    "F-distribution, write a Python function that returns the critical F-value for a two-tailed test.\n",
    "\n",
    "Ans. The required python funciton is as follows:"
   ]
  },
  {
   "cell_type": "code",
   "execution_count": 26,
   "id": "b661110b-5c20-4cf9-82a8-cb3340b849ad",
   "metadata": {},
   "outputs": [],
   "source": [
    "def f_critical(df_num, df_den, significance=0.05):\n",
    "    from scipy.stats import f\n",
    "    \n",
    "    critical = f.ppf(q=1-significance, dfn=df_num, dfd=df_den)\n",
    "    \n",
    "    return critical"
   ]
  },
  {
   "cell_type": "markdown",
   "id": "fd7d23b5-f74e-4756-8bcd-2983224f0807",
   "metadata": {},
   "source": [
    "For example, for $\\alpha = 0.05$, $df_1 = 9$, $df_2=9$, we get"
   ]
  },
  {
   "cell_type": "code",
   "execution_count": 27,
   "id": "34daf2ef-7bb8-45bf-9b68-bdc032dd6bb2",
   "metadata": {},
   "outputs": [
    {
     "data": {
      "text/plain": [
       "3.178893104458269"
      ]
     },
     "execution_count": 27,
     "metadata": {},
     "output_type": "execute_result"
    }
   ],
   "source": [
    "f_critical(9,9, 0.05)"
   ]
  },
  {
   "cell_type": "markdown",
   "id": "6953fa46-3871-40b1-ad92-319b20c50dfc",
   "metadata": {},
   "source": []
  },
  {
   "cell_type": "markdown",
   "id": "4361b1d8-c53c-4a32-96b1-a8d53b018332",
   "metadata": {},
   "source": [
    "Q3. Write a Python program that generates random samples from two normal distributions with known variances and uses an F-test to determine if the variances are equal. The program should output the F-value, degrees of freedom, and p-value for the test.\n",
    "\n",
    "Ans. \n",
    "\n",
    "- $H_0$: **Null Hypothesis** : Variances are not significantly different\n",
    "- $H_1$: **Alternative Hypothesis** : Variances are significantly different\n",
    "\n",
    "The required Python program is as follows:"
   ]
  },
  {
   "cell_type": "code",
   "execution_count": 1,
   "id": "469a8f14-98de-4164-8240-54872da861d9",
   "metadata": {},
   "outputs": [
    {
     "ename": "NameError",
     "evalue": "name 'mean1' is not defined",
     "output_type": "error",
     "traceback": [
      "\u001b[0;31m---------------------------------------------------------------------------\u001b[0m",
      "\u001b[0;31mNameError\u001b[0m                                 Traceback (most recent call last)",
      "Cell \u001b[0;32mIn[1], line 9\u001b[0m\n\u001b[1;32m      6\u001b[0m variance2 \u001b[38;5;241m=\u001b[39m \u001b[38;5;241m9\u001b[39m  \u001b[38;5;66;03m# Known variance for the second distribution\u001b[39;00m\n\u001b[1;32m      8\u001b[0m \u001b[38;5;66;03m# Generate random samples from the two distributions\u001b[39;00m\n\u001b[0;32m----> 9\u001b[0m sample1 \u001b[38;5;241m=\u001b[39m np\u001b[38;5;241m.\u001b[39mrandom\u001b[38;5;241m.\u001b[39mnormal(\u001b[43mmean1\u001b[49m, np\u001b[38;5;241m.\u001b[39msqrt(variance1), size\u001b[38;5;241m=\u001b[39mnp\u001b[38;5;241m.\u001b[39mrandom\u001b[38;5;241m.\u001b[39mrandint(\u001b[38;5;241m10\u001b[39m,\u001b[38;5;241m100\u001b[39m))\n\u001b[1;32m     10\u001b[0m sample2 \u001b[38;5;241m=\u001b[39m np\u001b[38;5;241m.\u001b[39mrandom\u001b[38;5;241m.\u001b[39mnormal(mean2, np\u001b[38;5;241m.\u001b[39msqrt(variance2), size\u001b[38;5;241m=\u001b[39m np\u001b[38;5;241m.\u001b[39mrandom\u001b[38;5;241m.\u001b[39mrandint(\u001b[38;5;241m10\u001b[39m,\u001b[38;5;241m100\u001b[39m))\n\u001b[1;32m     12\u001b[0m significance_level \u001b[38;5;241m=\u001b[39m \u001b[38;5;241m0.05\u001b[39m\n",
      "\u001b[0;31mNameError\u001b[0m: name 'mean1' is not defined"
     ]
    }
   ],
   "source": [
    "import numpy as np\n",
    "import scipy.stats as stat\n",
    "\n",
    "# Parameters\n",
    "variance1 = 4  # Known variance for the first distribution\n",
    "variance2 = 9  # Known variance for the second distribution\n",
    "\n",
    "# Generate random samples from the two distributions\n",
    "sample1 = np.random.normal(scale=np.sqrt(variance1), size=np.random.randint(10,100))\n",
    "sample2 = np.random.normal(me, np.sqrt(variance2), size= np.random.randint(10,100))\n",
    "\n",
    "significance_level = 0.05\n",
    "n1 = len(sample1)\n",
    "n2 = len(sample2)\n",
    "df_1 = n1-1\n",
    "df_2 = n2-1\n",
    "\n",
    "if variance1>variance2:\n",
    "    f = variance1/variance2\n",
    "    critical = stat.f.ppf(1-significance_level/2, df_1, df_2)\n",
    "    p_value = 1-stat.f.cdf(f, df_1, df_2)\n",
    "else:\n",
    "    f = variance2/variance1\n",
    "    critical = stat.f.ppf(1-significance_level/2, df_2, df_1)  \n",
    "    p_value = 1-stat.f.cdf(f, df_2, df_1)\n",
    "\n",
    "print(\"RESULT:\")\n",
    "print(f\"Degrees of Freedom for sample-1 : {df_1}\")\n",
    "print(f\"Degrees of Freedom for sample-2 : {df_2}\")\n",
    "print(f'F-test : {f:.3}')\n",
    "print(f'p-value : {p_value:.4}')\n",
    "print(f'Critical value : {critical:.3}')\n",
    "\n",
    "if f > critical:\n",
    "    print(\"We reject the Null Hypothesis. The variances are significantly different\")\n",
    "else:\n",
    "    print(\"We fail to Reject the Null Hypothesis. The variances are not significantly different.\")\n",
    "    "
   ]
  },
  {
   "cell_type": "markdown",
   "id": "3a722964-04be-4eaa-819d-1b0b5a5efbc0",
   "metadata": {},
   "source": []
  },
  {
   "cell_type": "markdown",
   "id": "70f8b2bc-6393-4caf-ad2b-f1a40aa900db",
   "metadata": {},
   "source": [
    "Q4.The variances of two populations are known to be 10 and 15. A sample of 12 observations is taken from\n",
    "each population. Conduct an F-test at the 5% significance level to determine if the variances are\n",
    "significantly different.\n",
    "\n",
    "Ans. We have, $\\sigma_1=10$, $\\sigma_2=15$, $\\alpha=0.05$, $n=12$\n",
    "\n",
    "- $H_0$: **Null Hypothesis** : Variances are not significantly different\n",
    "- $H_1$: **Alternative Hypothesis** : Variances are significantly different\n",
    "\n",
    "Solution using python is as follows:"
   ]
  },
  {
   "cell_type": "code",
   "execution_count": 43,
   "id": "ad08c9bb-9e63-4829-a709-d70dd8b3f175",
   "metadata": {},
   "outputs": [
    {
     "name": "stdout",
     "output_type": "stream",
     "text": [
      "RESULT:\n",
      "F-test : 1.5\n",
      "Critical value : 2.82\n",
      "We fail to Reject the Null Hypothesis. The variances are not significantly different.\n"
     ]
    }
   ],
   "source": [
    "import scipy.stats as stat\n",
    "\n",
    "var_1 = 10\n",
    "var_2 = 15\n",
    "significance_level = 0.05\n",
    "n = 12\n",
    "df_1 = n-1\n",
    "df_2 = n-1\n",
    "\n",
    "if var_1>var_2:\n",
    "    f = var_1/var_2\n",
    "    critical = stat.f.ppf(1-significance_level, df_1, df_2)\n",
    "else:\n",
    "    f = var_2/var_1\n",
    "    critical = stat.f.ppf(1-significance_level, df_2, df_1)\n",
    "    \n",
    "print(\"RESULT:\")\n",
    "print(f'F-test : {f:.3}')\n",
    "print(f'Critical value : {critical:.3}')\n",
    "if f > critical:\n",
    "    print(\"We reject the Null Hypothesis. The variances are significantly different\")\n",
    "else:\n",
    "    print(\"We fail to Reject the Null Hypothesis. The variances are not significantly different.\")"
   ]
  },
  {
   "cell_type": "markdown",
   "id": "b197a6df-7c08-4612-9557-7bdb6db9b641",
   "metadata": {},
   "source": []
  },
  {
   "cell_type": "markdown",
   "id": "ad4fbb7d-657b-4729-a063-9c3b905fc3fb",
   "metadata": {},
   "source": [
    "Q5. A manufacturer claims that the variance of the diameter of a certain product is 0.005. A sample of 25\n",
    "products is taken, and the sample variance is found to be 0.006. Conduct an F-test at the 1% significance\n",
    "level to determine if the claim is justified.\n",
    "\n",
    "Ans. We have, $\\sigma_1=0.005$, $\\sigma_2=0.006$, $\\alpha=0.01$, $n=25$\n",
    "\n",
    "- $H_0$: **Null Hypothesis** : Variances are not significantly different\n",
    "- $H_1$: **Alternative Hypothesis** : Variances are significantly different\n",
    "\n",
    "Solution using python is as follows:"
   ]
  },
  {
   "cell_type": "code",
   "execution_count": 42,
   "id": "785c1cdd-4ab9-42b4-beec-153c208344d9",
   "metadata": {},
   "outputs": [
    {
     "name": "stdout",
     "output_type": "stream",
     "text": [
      "RESULT:\n",
      "F-test : 1.2\n",
      "Critical value : 2.66\n",
      "We fail to Reject the Null Hypothesis. The variances are not significantly different.\n"
     ]
    }
   ],
   "source": [
    "import scipy.stats as stat\n",
    "\n",
    "var_1 = 0.005\n",
    "var_2 = 0.006\n",
    "significance_level = 0.01\n",
    "n = 25\n",
    "df_1 = n-1\n",
    "df_2 = n-1\n",
    "\n",
    "if var_1>var_2:\n",
    "    f = var_1/var_2\n",
    "    critical = stat.f.ppf(1-significance_level, df_1, df_2)\n",
    "else:\n",
    "    f = var_2/var_1\n",
    "    critical = stat.f.ppf(1-significance_level, df_2, df_1)\n",
    "    \n",
    "print(\"RESULT:\")\n",
    "print(f'F-test : {f:.3}')\n",
    "print(f'Critical value : {critical:.3}')\n",
    "if f > critical:\n",
    "    print(\"We reject the Null Hypothesis. The variances are significantly different\")\n",
    "else:\n",
    "    print(\"We fail to Reject the Null Hypothesis. The variances are not significantly different.\")"
   ]
  },
  {
   "cell_type": "markdown",
   "id": "dd9d3fbe-b70d-4662-92be-d925d0558f26",
   "metadata": {},
   "source": []
  },
  {
   "cell_type": "markdown",
   "id": "3d2140aa-bdc2-43e4-99e6-8d8d40991c4a",
   "metadata": {},
   "source": [
    "Q6. Write a Python function that takes in the degrees of freedom for the numerator and denominator of an\n",
    "F-distribution and calculates the mean and variance of the distribution. The function should return the\n",
    "mean and variance as a tuple.\n",
    "\n",
    "Ans. For a F distribuiton:\n",
    "\n",
    "Mean:\n",
    "$$\\mu = \\frac{df_2}{df_2 - 2}$$ when $df_2 > 2$\n",
    "\n",
    "$\\mu = undefined$ when $df_2 \\ge 2$\n",
    "\n",
    "Varance:\n",
    "$$\\sigma^2 = \\frac{2 .df_2^2. (df_1 + df_2 - 2)}{df_1 . (df_2 - 2)^2 . (df_2 - 4)}$$\n",
    "$\\sigma^2 = undefined$ when $df_2 \\le 4$\n",
    "\n",
    "where\n",
    "- $df_1$: degrees of freedom for the numerator\n",
    "- $df_2$: degrees of freedom for the denominator\n",
    "\n",
    "Solution using python is shown:"
   ]
  },
  {
   "cell_type": "code",
   "execution_count": 59,
   "id": "e7c07c07-1c5b-4303-89c4-2531807118ed",
   "metadata": {},
   "outputs": [],
   "source": [
    "def f_stats(dfn, dfd):\n",
    "    \n",
    "    mean = dfd/(dfd-2)\n",
    "    \n",
    "    num = 2*(dfd**2)*(dfn + dfd - 2)\n",
    "    den = dfn*(dfd - 2)**2*(dfd - 4)\n",
    "    var = num/den\n",
    "    \n",
    "    return (mean, var)"
   ]
  },
  {
   "cell_type": "markdown",
   "id": "d96c7adb-4168-40b1-ba61-9bfc6d4ca344",
   "metadata": {},
   "source": [
    "For example :"
   ]
  },
  {
   "cell_type": "code",
   "execution_count": 60,
   "id": "ed046f1b-1ac8-448a-8f9a-eaaa2c687f6c",
   "metadata": {},
   "outputs": [
    {
     "data": {
      "text/plain": [
       "(1.6666666666666667, 22.22222222222222)"
      ]
     },
     "execution_count": 60,
     "metadata": {},
     "output_type": "execute_result"
    }
   ],
   "source": [
    "f_stats(1,5)"
   ]
  },
  {
   "cell_type": "markdown",
   "id": "06878b4b-2775-43c2-99e8-8ba8b6c34783",
   "metadata": {},
   "source": []
  },
  {
   "cell_type": "markdown",
   "id": "51fb1a58-9973-48f5-8c0d-a57768bdf158",
   "metadata": {},
   "source": [
    "Q7. A random sample of 10 measurements is taken from a normal population with unknown variance. The\n",
    "sample variance is found to be 25. Another random sample of 15 measurements is taken from another\n",
    "normal population with unknown variance, and the sample variance is found to be 20. Conduct an F-test\n",
    "at the 10% significance level to determine if the variances are significantly different.\n",
    "\n",
    "Ans. We have, $S_1=25$, $S_2=20$, $\\alpha=0.10$, $n_1=10$, $n_2=15$\n",
    "\n",
    "- $H_0$: **Null Hypothesis** : Variances are not significantly different\n",
    "- $H_1$: **Alternative Hypothesis** : Variances are significantly different\n",
    "\n",
    "Solution using python is as follows:"
   ]
  },
  {
   "cell_type": "code",
   "execution_count": 40,
   "id": "90d73010-46c9-474b-a6c0-565d03d71205",
   "metadata": {},
   "outputs": [
    {
     "name": "stdout",
     "output_type": "stream",
     "text": [
      "RESULT:\n",
      "F-test : 1.25\n",
      "Critical value : 2.12\n",
      "We fail to Reject the Null Hypothesis. The variances are not significantly different.\n"
     ]
    }
   ],
   "source": [
    "import scipy.stats as stat\n",
    "\n",
    "var_1 = 25\n",
    "var_2 = 20\n",
    "significance_level = 0.10\n",
    "n1 = 10\n",
    "n2 = 15\n",
    "df_1 = n1-1\n",
    "df_2 = n2-1\n",
    "\n",
    "if var_1>var_2:\n",
    "    f = var_1/var_2\n",
    "    critical = stat.f.ppf(1-significance_level, df_1, df_2)\n",
    "else:\n",
    "    f = var_2/var_1\n",
    "    critical = stat.f.ppf(1-significance_level, df_2, df_1)  \n",
    "\n",
    "print(\"RESULT:\")\n",
    "print(f'F-test : {f:.3}')\n",
    "print(f'Critical value : {critical:.3}')\n",
    "if f > critical:\n",
    "    print(\"We reject the Null Hypothesis. The variances are significantly different\")\n",
    "else:\n",
    "    print(\"We fail to Reject the Null Hypothesis. The variances are not significantly different.\")"
   ]
  },
  {
   "cell_type": "markdown",
   "id": "b1b2b5ec-0c34-487c-9f27-039227c482d1",
   "metadata": {},
   "source": []
  },
  {
   "cell_type": "markdown",
   "id": "895d3686-0653-4420-8d9e-f35960ee712d",
   "metadata": {},
   "source": [
    "Q8. The following data represent the waiting times in minutes at two different restaurants on a Saturday\n",
    "night: \n",
    "- Restaurant A: 24, 25, 28, 23, 22, 20, 27; \n",
    "- Restaurant B: 31, 33, 35, 30, 32, 36. \n",
    "\n",
    "Conduct an F-test at the 5%\n",
    "significance level to determine if the variances are significantly different.\n",
    "\n",
    "Ans. Solution using python is as shown:"
   ]
  },
  {
   "cell_type": "code",
   "execution_count": 128,
   "id": "f9703857-a808-4bab-84e7-e7f9ee532d7c",
   "metadata": {},
   "outputs": [
    {
     "name": "stdout",
     "output_type": "stream",
     "text": [
      "RESULT:\n",
      "F-test : 1.5\n",
      "Critical value : 4.95\n",
      "We fail to Reject the Null Hypothesis. The variances are not significantly different.\n"
     ]
    }
   ],
   "source": [
    "import scipy.stats as stat\n",
    "import numpy as np\n",
    "\n",
    "rest_A = [24, 25, 28, 23, 22, 20, 27] \n",
    "rest_B = [31, 33, 35, 30, 32, 36] \n",
    "\n",
    "var_1 = np.var(rest_A)\n",
    "var_2 = np.var(rest_B)\n",
    "significance_level = 0.05\n",
    "n1 = len(rest_A)\n",
    "n2 = len(rest_B)\n",
    "df_1 = n1-1\n",
    "df_2 = n2-1\n",
    "\n",
    "if var_1>var_2:\n",
    "    f = var_1/var_2\n",
    "    critical = stat.f.ppf(1-significance_level, df_1, df_2)\n",
    "else:\n",
    "    f = var_2/var_1\n",
    "    critical = stat.f.ppf(1-significance_level, df_2, df_1)  \n",
    "\n",
    "print(\"RESULT:\")\n",
    "print(f'F-test : {f:.3}')\n",
    "print(f'Critical value : {critical:.3}')\n",
    "if f > critical:\n",
    "    print(\"We reject the Null Hypothesis. The variances are significantly different\")\n",
    "else:\n",
    "    print(\"We fail to Reject the Null Hypothesis. The variances are not significantly different.\")"
   ]
  },
  {
   "cell_type": "markdown",
   "id": "fc462bcd-7c5b-45e0-8cf0-049e53cb0cf4",
   "metadata": {},
   "source": []
  },
  {
   "cell_type": "markdown",
   "id": "010c0383-7772-4d73-80b3-da1854f01e3f",
   "metadata": {},
   "source": [
    "Q9. The following data represent the test scores of two groups of students: \n",
    "- Group A: 80, 85, 90, 92, 87, 83;\n",
    "- Group B: 75, 78, 82, 79, 81, 84. \n",
    "\n",
    "Conduct an F-test at the 1% significance level to determine if the variances\n",
    "are significantly different.\n",
    "\n",
    "Ans. Solution using python is as shown:"
   ]
  },
  {
   "cell_type": "code",
   "execution_count": 130,
   "id": "e8223758-9ba8-4074-a4cd-6cd87f136409",
   "metadata": {},
   "outputs": [
    {
     "name": "stdout",
     "output_type": "stream",
     "text": [
      "RESULT:\n",
      "F-test : 1.94\n",
      "Critical value : 11.0\n",
      "We fail to Reject the Null Hypothesis. The variances are not significantly different.\n"
     ]
    }
   ],
   "source": [
    "import scipy.stats as stat\n",
    "import numpy as np\n",
    "\n",
    "group_A = [80, 85, 90, 92, 87, 83]\n",
    "group_B = [75, 78, 82, 79, 81, 84] \n",
    "\n",
    "var_1 = np.var(group_A)\n",
    "var_2 = np.var(group_B)\n",
    "significance_level = 0.01\n",
    "n1 = len(group_A)\n",
    "n2 = len(group_B)\n",
    "df_1 = n1-1\n",
    "df_2 = n2-1\n",
    "\n",
    "if var_1>var_2:\n",
    "    f = var_1/var_2\n",
    "    critical = stat.f.ppf(1-significance_level, df_1, df_2)\n",
    "else:\n",
    "    f = var_2/var_1\n",
    "    critical = stat.f.ppf(1-significance_level, df_2, df_1)  \n",
    "\n",
    "print(\"RESULT:\")\n",
    "print(f'F-test : {f:.3}')\n",
    "print(f'Critical value : {critical:.3}')\n",
    "if f > critical:\n",
    "    print(\"We reject the Null Hypothesis. The variances are significantly different\")\n",
    "else:\n",
    "    print(\"We fail to Reject the Null Hypothesis. The variances are not significantly different.\")"
   ]
  },
  {
   "cell_type": "code",
   "execution_count": null,
   "id": "54b2b4a9-14ff-420b-bb96-5989ceebf8ed",
   "metadata": {},
   "outputs": [],
   "source": []
  }
 ],
 "metadata": {
  "kernelspec": {
   "display_name": "Python 3 (ipykernel)",
   "language": "python",
   "name": "python3"
  },
  "language_info": {
   "codemirror_mode": {
    "name": "ipython",
    "version": 3
   },
   "file_extension": ".py",
   "mimetype": "text/x-python",
   "name": "python",
   "nbconvert_exporter": "python",
   "pygments_lexer": "ipython3",
   "version": "3.10.8"
  }
 },
 "nbformat": 4,
 "nbformat_minor": 5
}
